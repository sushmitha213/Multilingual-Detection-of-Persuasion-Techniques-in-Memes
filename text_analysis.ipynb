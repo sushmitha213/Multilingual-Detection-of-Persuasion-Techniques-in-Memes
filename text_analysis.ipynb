{
  "cells": [
    {
      "cell_type": "code",
      "execution_count": 114,
      "metadata": {
        "colab": {
          "base_uri": "https://localhost:8080/"
        },
        "id": "HLECFfJY9Ylm",
        "outputId": "d8878d4f-fb1f-42de-fd1f-31c391011f62"
      },
      "outputs": [
        {
          "data": {
            "text/plain": [
              "<torch._C.Generator at 0x1e0b6b68e90>"
            ]
          },
          "execution_count": 114,
          "metadata": {},
          "output_type": "execute_result"
        }
      ],
      "source": [
        "import torch\n",
        "from torch import nn\n",
        "from torch.utils.data import Dataset, DataLoader\n",
        "from transformers import BertTokenizerFast as BertTokenizer, BertModel, get_linear_schedule_with_warmup\n",
        "import pytorch_lightning as pl\n",
        "from torchmetrics.functional.classification import accuracy, auroc, f1_score\n",
        "from pytorch_lightning.callbacks import ModelCheckpoint, EarlyStopping\n",
        "from pytorch_lightning.loggers import TensorBoardLogger\n",
        "from tqdm.auto import tqdm\n",
        "import numpy as np\n",
        "import pandas as pd\n",
        "import seaborn as sns\n",
        "from pylab import rcParams\n",
        "import matplotlib.pyplot as plt\n",
        "from matplotlib import rc\n",
        "\n",
        "sns.set(style='whitegrid',palette='muted',font_scale=1.2)\n",
        "HAPPY_COLORS_PALETTE = [\"#01BEFE\", \"#FFDD00\", \"#FF7D00\", \"#FF006D\", \"#ADFF02\", \"#8F00FF\"]\n",
        "sns.set_palette(sns.color_palette(HAPPY_COLORS_PALETTE))\n",
        "rcParams['figure.figsize'] = 12, 8\n",
        "RANDOM_SEED = 42\n",
        "np.random.seed(RANDOM_SEED)\n",
        "torch.manual_seed(RANDOM_SEED)"
      ]
    },
    {
      "cell_type": "markdown",
      "metadata": {
        "id": "iO3BOtjL9Ylp"
      },
      "source": [
        "### Training data"
      ]
    },
    {
      "cell_type": "code",
      "execution_count": 3,
      "metadata": {
        "colab": {
          "base_uri": "https://localhost:8080/",
          "height": 382
        },
        "id": "sz7pFl929Ylr",
        "outputId": "4da41d6b-4d06-447b-ca65-269fbd2bf391"
      },
      "outputs": [
        {
          "data": {
            "text/html": [
              "<div>\n",
              "<style scoped>\n",
              "    .dataframe tbody tr th:only-of-type {\n",
              "        vertical-align: middle;\n",
              "    }\n",
              "\n",
              "    .dataframe tbody tr th {\n",
              "        vertical-align: top;\n",
              "    }\n",
              "\n",
              "    .dataframe thead th {\n",
              "        text-align: right;\n",
              "    }\n",
              "</style>\n",
              "<table border=\"1\" class=\"dataframe\">\n",
              "  <thead>\n",
              "    <tr style=\"text-align: right;\">\n",
              "      <th></th>\n",
              "      <th>id</th>\n",
              "      <th>text</th>\n",
              "      <th>labels</th>\n",
              "      <th>link</th>\n",
              "    </tr>\n",
              "  </thead>\n",
              "  <tbody>\n",
              "    <tr>\n",
              "      <th>0</th>\n",
              "      <td>65635</td>\n",
              "      <td>THIS IS WHY YOU NEED\\n\\nA SHARPIE WITH YOU AT ...</td>\n",
              "      <td>[Black-and-white Fallacy/Dictatorship]</td>\n",
              "      <td>https://www.facebook.com/photo/?fbid=402355213...</td>\n",
              "    </tr>\n",
              "    <tr>\n",
              "      <th>1</th>\n",
              "      <td>67927</td>\n",
              "      <td>GOOD NEWS!\\n\\nNAZANIN ZAGHARI-RATCLIFFE AND AN...</td>\n",
              "      <td>[Loaded Language, Glittering generalities (Vir...</td>\n",
              "      <td>https://www.facebook.com/amnesty/photos/531198...</td>\n",
              "    </tr>\n",
              "    <tr>\n",
              "      <th>2</th>\n",
              "      <td>68031</td>\n",
              "      <td>PAING PHYO MIN IS FREE!</td>\n",
              "      <td>[]</td>\n",
              "      <td>https://www.facebook.com/amnesty/photos/427419...</td>\n",
              "    </tr>\n",
              "    <tr>\n",
              "      <th>3</th>\n",
              "      <td>77490</td>\n",
              "      <td>Move your ships away!\\n\\noooook\\n\\nMove your s...</td>\n",
              "      <td>[]</td>\n",
              "      <td>https://www.facebook.com/rightpatriots/photos/...</td>\n",
              "    </tr>\n",
              "    <tr>\n",
              "      <th>4</th>\n",
              "      <td>67641</td>\n",
              "      <td>WHEN YOU'RE THE FBI, THEY LET YOU DO IT.</td>\n",
              "      <td>[Thought-terminating cliché]</td>\n",
              "      <td>https://www.facebook.com/AddictingInfoOrg/phot...</td>\n",
              "    </tr>\n",
              "  </tbody>\n",
              "</table>\n",
              "</div>"
            ],
            "text/plain": [
              "      id                                               text  \\\n",
              "0  65635  THIS IS WHY YOU NEED\\n\\nA SHARPIE WITH YOU AT ...   \n",
              "1  67927  GOOD NEWS!\\n\\nNAZANIN ZAGHARI-RATCLIFFE AND AN...   \n",
              "2  68031                            PAING PHYO MIN IS FREE!   \n",
              "3  77490  Move your ships away!\\n\\noooook\\n\\nMove your s...   \n",
              "4  67641           WHEN YOU'RE THE FBI, THEY LET YOU DO IT.   \n",
              "\n",
              "                                              labels  \\\n",
              "0             [Black-and-white Fallacy/Dictatorship]   \n",
              "1  [Loaded Language, Glittering generalities (Vir...   \n",
              "2                                                 []   \n",
              "3                                                 []   \n",
              "4                       [Thought-terminating cliché]   \n",
              "\n",
              "                                                link  \n",
              "0  https://www.facebook.com/photo/?fbid=402355213...  \n",
              "1  https://www.facebook.com/amnesty/photos/531198...  \n",
              "2  https://www.facebook.com/amnesty/photos/427419...  \n",
              "3  https://www.facebook.com/rightpatriots/photos/...  \n",
              "4  https://www.facebook.com/AddictingInfoOrg/phot...  "
            ]
          },
          "execution_count": 3,
          "metadata": {},
          "output_type": "execute_result"
        }
      ],
      "source": [
        "df_train = pd.read_json('annotations/data/subtask1/train.json')\n",
        "df_train.head()"
      ]
    },
    {
      "cell_type": "code",
      "execution_count": 4,
      "metadata": {
        "colab": {
          "base_uri": "https://localhost:8080/"
        },
        "id": "JS2xpZC-9Ylr",
        "outputId": "a0d9222e-d43d-4e43-f44c-19a8b2d1b8b8"
      },
      "outputs": [
        {
          "data": {
            "text/plain": [
              "(7000, 4)"
            ]
          },
          "execution_count": 4,
          "metadata": {},
          "output_type": "execute_result"
        }
      ],
      "source": [
        "df_train.shape"
      ]
    },
    {
      "cell_type": "code",
      "execution_count": 5,
      "metadata": {
        "colab": {
          "base_uri": "https://localhost:8080/"
        },
        "id": "nhZrE_4E9Yls",
        "outputId": "3b5bf5c1-38b7-49ef-fdf2-f8a8461838bc"
      },
      "outputs": [
        {
          "name": "stdout",
          "output_type": "stream",
          "text": [
            "<class 'pandas.core.frame.DataFrame'>\n",
            "RangeIndex: 7000 entries, 0 to 6999\n",
            "Data columns (total 4 columns):\n",
            " #   Column  Non-Null Count  Dtype \n",
            "---  ------  --------------  ----- \n",
            " 0   id      7000 non-null   int64 \n",
            " 1   text    7000 non-null   object\n",
            " 2   labels  7000 non-null   object\n",
            " 3   link    7000 non-null   object\n",
            "dtypes: int64(1), object(3)\n",
            "memory usage: 218.9+ KB\n"
          ]
        }
      ],
      "source": [
        "df_train.info()"
      ]
    },
    {
      "cell_type": "code",
      "execution_count": 6,
      "metadata": {
        "colab": {
          "base_uri": "https://localhost:8080/"
        },
        "id": "LTCLJPM_9Ylt",
        "outputId": "5cc12ff8-06de-4bc6-b67e-b901c3537a2d"
      },
      "outputs": [
        {
          "data": {
            "text/plain": [
              "0                  [Black-and-white Fallacy/Dictatorship]\n",
              "1       [Loaded Language, Glittering generalities (Vir...\n",
              "2                                                      []\n",
              "3                                                      []\n",
              "4                            [Thought-terminating cliché]\n",
              "                              ...                        \n",
              "6995    [Loaded Language, Causal Oversimplification, T...\n",
              "6996                      [Loaded Language, Whataboutism]\n",
              "6997                                                   []\n",
              "6998                                                   []\n",
              "6999                                            [Slogans]\n",
              "Name: labels, Length: 7000, dtype: object"
            ]
          },
          "execution_count": 6,
          "metadata": {},
          "output_type": "execute_result"
        }
      ],
      "source": [
        "labels_train = df_train['labels']\n",
        "labels_train"
      ]
    },
    {
      "cell_type": "code",
      "execution_count": 7,
      "metadata": {
        "colab": {
          "base_uri": "https://localhost:8080/"
        },
        "id": "JWiFXWPY9Ylu",
        "outputId": "45404866-05a7-4d71-9170-e498b8ee96dc"
      },
      "outputs": [
        {
          "data": {
            "text/plain": [
              "{'Appeal to authority',\n",
              " 'Appeal to fear/prejudice',\n",
              " 'Bandwagon',\n",
              " 'Black-and-white Fallacy/Dictatorship',\n",
              " 'Causal Oversimplification',\n",
              " 'Doubt',\n",
              " 'Exaggeration/Minimisation',\n",
              " 'Flag-waving',\n",
              " 'Glittering generalities (Virtue)',\n",
              " 'Loaded Language',\n",
              " \"Misrepresentation of Someone's Position (Straw Man)\",\n",
              " 'Name calling/Labeling',\n",
              " 'Obfuscation, Intentional vagueness, Confusion',\n",
              " 'Presenting Irrelevant Data (Red Herring)',\n",
              " 'Reductio ad hitlerum',\n",
              " 'Repetition',\n",
              " 'Slogans',\n",
              " 'Smears',\n",
              " 'Thought-terminating cliché',\n",
              " 'Whataboutism'}"
            ]
          },
          "execution_count": 7,
          "metadata": {},
          "output_type": "execute_result"
        }
      ],
      "source": [
        "CLASS_NAMES = set()\n",
        "\n",
        "for category in labels_train:\n",
        "    category = list(category)\n",
        "    for label in category:\n",
        "        CLASS_NAMES.add(label)\n",
        "\n",
        "CLASS_NAMES"
      ]
    },
    {
      "cell_type": "code",
      "execution_count": 8,
      "metadata": {
        "colab": {
          "base_uri": "https://localhost:8080/"
        },
        "id": "KBCDkvYJ9Ylu",
        "outputId": "fc431c78-fef3-42c6-f3c7-488163f8bb57"
      },
      "outputs": [
        {
          "data": {
            "text/plain": [
              "20"
            ]
          },
          "execution_count": 8,
          "metadata": {},
          "output_type": "execute_result"
        }
      ],
      "source": [
        "len(CLASS_NAMES)"
      ]
    },
    {
      "cell_type": "code",
      "execution_count": 9,
      "metadata": {
        "colab": {
          "base_uri": "https://localhost:8080/"
        },
        "id": "Yp3zJZWw9Ylu",
        "outputId": "c4986b8a-4f31-4716-8da8-682d5205a16f"
      },
      "outputs": [
        {
          "data": {
            "text/plain": [
              "(7000, 24)"
            ]
          },
          "execution_count": 9,
          "metadata": {},
          "output_type": "execute_result"
        }
      ],
      "source": [
        "for label in CLASS_NAMES:\n",
        "    df_train.insert(df_train.shape[1],label,[0] * df_train.shape[0],True)\n",
        "df_train.shape"
      ]
    },
    {
      "cell_type": "code",
      "execution_count": 10,
      "metadata": {
        "colab": {
          "base_uri": "https://localhost:8080/",
          "height": 464
        },
        "id": "ijZCeQs-9Ylv",
        "outputId": "57f7c21e-0335-4c44-be3a-74349e68346a"
      },
      "outputs": [
        {
          "data": {
            "text/html": [
              "<div>\n",
              "<style scoped>\n",
              "    .dataframe tbody tr th:only-of-type {\n",
              "        vertical-align: middle;\n",
              "    }\n",
              "\n",
              "    .dataframe tbody tr th {\n",
              "        vertical-align: top;\n",
              "    }\n",
              "\n",
              "    .dataframe thead th {\n",
              "        text-align: right;\n",
              "    }\n",
              "</style>\n",
              "<table border=\"1\" class=\"dataframe\">\n",
              "  <thead>\n",
              "    <tr style=\"text-align: right;\">\n",
              "      <th></th>\n",
              "      <th>id</th>\n",
              "      <th>text</th>\n",
              "      <th>labels</th>\n",
              "      <th>link</th>\n",
              "      <th>Presenting Irrelevant Data (Red Herring)</th>\n",
              "      <th>Exaggeration/Minimisation</th>\n",
              "      <th>Appeal to fear/prejudice</th>\n",
              "      <th>Reductio ad hitlerum</th>\n",
              "      <th>Causal Oversimplification</th>\n",
              "      <th>Name calling/Labeling</th>\n",
              "      <th>...</th>\n",
              "      <th>Misrepresentation of Someone's Position (Straw Man)</th>\n",
              "      <th>Obfuscation, Intentional vagueness, Confusion</th>\n",
              "      <th>Appeal to authority</th>\n",
              "      <th>Black-and-white Fallacy/Dictatorship</th>\n",
              "      <th>Flag-waving</th>\n",
              "      <th>Slogans</th>\n",
              "      <th>Doubt</th>\n",
              "      <th>Thought-terminating cliché</th>\n",
              "      <th>Repetition</th>\n",
              "      <th>Bandwagon</th>\n",
              "    </tr>\n",
              "  </thead>\n",
              "  <tbody>\n",
              "    <tr>\n",
              "      <th>0</th>\n",
              "      <td>65635</td>\n",
              "      <td>THIS IS WHY YOU NEED\\n\\nA SHARPIE WITH YOU AT ...</td>\n",
              "      <td>[Black-and-white Fallacy/Dictatorship]</td>\n",
              "      <td>https://www.facebook.com/photo/?fbid=402355213...</td>\n",
              "      <td>0</td>\n",
              "      <td>0</td>\n",
              "      <td>0</td>\n",
              "      <td>0</td>\n",
              "      <td>0</td>\n",
              "      <td>0</td>\n",
              "      <td>...</td>\n",
              "      <td>0</td>\n",
              "      <td>0</td>\n",
              "      <td>0</td>\n",
              "      <td>0</td>\n",
              "      <td>0</td>\n",
              "      <td>0</td>\n",
              "      <td>0</td>\n",
              "      <td>0</td>\n",
              "      <td>0</td>\n",
              "      <td>0</td>\n",
              "    </tr>\n",
              "    <tr>\n",
              "      <th>1</th>\n",
              "      <td>67927</td>\n",
              "      <td>GOOD NEWS!\\n\\nNAZANIN ZAGHARI-RATCLIFFE AND AN...</td>\n",
              "      <td>[Loaded Language, Glittering generalities (Vir...</td>\n",
              "      <td>https://www.facebook.com/amnesty/photos/531198...</td>\n",
              "      <td>0</td>\n",
              "      <td>0</td>\n",
              "      <td>0</td>\n",
              "      <td>0</td>\n",
              "      <td>0</td>\n",
              "      <td>0</td>\n",
              "      <td>...</td>\n",
              "      <td>0</td>\n",
              "      <td>0</td>\n",
              "      <td>0</td>\n",
              "      <td>0</td>\n",
              "      <td>0</td>\n",
              "      <td>0</td>\n",
              "      <td>0</td>\n",
              "      <td>0</td>\n",
              "      <td>0</td>\n",
              "      <td>0</td>\n",
              "    </tr>\n",
              "    <tr>\n",
              "      <th>2</th>\n",
              "      <td>68031</td>\n",
              "      <td>PAING PHYO MIN IS FREE!</td>\n",
              "      <td>[]</td>\n",
              "      <td>https://www.facebook.com/amnesty/photos/427419...</td>\n",
              "      <td>0</td>\n",
              "      <td>0</td>\n",
              "      <td>0</td>\n",
              "      <td>0</td>\n",
              "      <td>0</td>\n",
              "      <td>0</td>\n",
              "      <td>...</td>\n",
              "      <td>0</td>\n",
              "      <td>0</td>\n",
              "      <td>0</td>\n",
              "      <td>0</td>\n",
              "      <td>0</td>\n",
              "      <td>0</td>\n",
              "      <td>0</td>\n",
              "      <td>0</td>\n",
              "      <td>0</td>\n",
              "      <td>0</td>\n",
              "    </tr>\n",
              "    <tr>\n",
              "      <th>3</th>\n",
              "      <td>77490</td>\n",
              "      <td>Move your ships away!\\n\\noooook\\n\\nMove your s...</td>\n",
              "      <td>[]</td>\n",
              "      <td>https://www.facebook.com/rightpatriots/photos/...</td>\n",
              "      <td>0</td>\n",
              "      <td>0</td>\n",
              "      <td>0</td>\n",
              "      <td>0</td>\n",
              "      <td>0</td>\n",
              "      <td>0</td>\n",
              "      <td>...</td>\n",
              "      <td>0</td>\n",
              "      <td>0</td>\n",
              "      <td>0</td>\n",
              "      <td>0</td>\n",
              "      <td>0</td>\n",
              "      <td>0</td>\n",
              "      <td>0</td>\n",
              "      <td>0</td>\n",
              "      <td>0</td>\n",
              "      <td>0</td>\n",
              "    </tr>\n",
              "    <tr>\n",
              "      <th>4</th>\n",
              "      <td>67641</td>\n",
              "      <td>WHEN YOU'RE THE FBI, THEY LET YOU DO IT.</td>\n",
              "      <td>[Thought-terminating cliché]</td>\n",
              "      <td>https://www.facebook.com/AddictingInfoOrg/phot...</td>\n",
              "      <td>0</td>\n",
              "      <td>0</td>\n",
              "      <td>0</td>\n",
              "      <td>0</td>\n",
              "      <td>0</td>\n",
              "      <td>0</td>\n",
              "      <td>...</td>\n",
              "      <td>0</td>\n",
              "      <td>0</td>\n",
              "      <td>0</td>\n",
              "      <td>0</td>\n",
              "      <td>0</td>\n",
              "      <td>0</td>\n",
              "      <td>0</td>\n",
              "      <td>0</td>\n",
              "      <td>0</td>\n",
              "      <td>0</td>\n",
              "    </tr>\n",
              "  </tbody>\n",
              "</table>\n",
              "<p>5 rows × 24 columns</p>\n",
              "</div>"
            ],
            "text/plain": [
              "      id                                               text  \\\n",
              "0  65635  THIS IS WHY YOU NEED\\n\\nA SHARPIE WITH YOU AT ...   \n",
              "1  67927  GOOD NEWS!\\n\\nNAZANIN ZAGHARI-RATCLIFFE AND AN...   \n",
              "2  68031                            PAING PHYO MIN IS FREE!   \n",
              "3  77490  Move your ships away!\\n\\noooook\\n\\nMove your s...   \n",
              "4  67641           WHEN YOU'RE THE FBI, THEY LET YOU DO IT.   \n",
              "\n",
              "                                              labels  \\\n",
              "0             [Black-and-white Fallacy/Dictatorship]   \n",
              "1  [Loaded Language, Glittering generalities (Vir...   \n",
              "2                                                 []   \n",
              "3                                                 []   \n",
              "4                       [Thought-terminating cliché]   \n",
              "\n",
              "                                                link  \\\n",
              "0  https://www.facebook.com/photo/?fbid=402355213...   \n",
              "1  https://www.facebook.com/amnesty/photos/531198...   \n",
              "2  https://www.facebook.com/amnesty/photos/427419...   \n",
              "3  https://www.facebook.com/rightpatriots/photos/...   \n",
              "4  https://www.facebook.com/AddictingInfoOrg/phot...   \n",
              "\n",
              "   Presenting Irrelevant Data (Red Herring)  Exaggeration/Minimisation  \\\n",
              "0                                         0                          0   \n",
              "1                                         0                          0   \n",
              "2                                         0                          0   \n",
              "3                                         0                          0   \n",
              "4                                         0                          0   \n",
              "\n",
              "   Appeal to fear/prejudice  Reductio ad hitlerum  Causal Oversimplification  \\\n",
              "0                         0                     0                          0   \n",
              "1                         0                     0                          0   \n",
              "2                         0                     0                          0   \n",
              "3                         0                     0                          0   \n",
              "4                         0                     0                          0   \n",
              "\n",
              "   Name calling/Labeling  ...  \\\n",
              "0                      0  ...   \n",
              "1                      0  ...   \n",
              "2                      0  ...   \n",
              "3                      0  ...   \n",
              "4                      0  ...   \n",
              "\n",
              "   Misrepresentation of Someone's Position (Straw Man)  \\\n",
              "0                                                  0     \n",
              "1                                                  0     \n",
              "2                                                  0     \n",
              "3                                                  0     \n",
              "4                                                  0     \n",
              "\n",
              "   Obfuscation, Intentional vagueness, Confusion  Appeal to authority  \\\n",
              "0                                              0                    0   \n",
              "1                                              0                    0   \n",
              "2                                              0                    0   \n",
              "3                                              0                    0   \n",
              "4                                              0                    0   \n",
              "\n",
              "   Black-and-white Fallacy/Dictatorship  Flag-waving  Slogans  Doubt  \\\n",
              "0                                     0            0        0      0   \n",
              "1                                     0            0        0      0   \n",
              "2                                     0            0        0      0   \n",
              "3                                     0            0        0      0   \n",
              "4                                     0            0        0      0   \n",
              "\n",
              "   Thought-terminating cliché  Repetition  Bandwagon  \n",
              "0                           0           0          0  \n",
              "1                           0           0          0  \n",
              "2                           0           0          0  \n",
              "3                           0           0          0  \n",
              "4                           0           0          0  \n",
              "\n",
              "[5 rows x 24 columns]"
            ]
          },
          "execution_count": 10,
          "metadata": {},
          "output_type": "execute_result"
        }
      ],
      "source": [
        "df_train.head()"
      ]
    },
    {
      "cell_type": "code",
      "execution_count": 11,
      "metadata": {
        "colab": {
          "base_uri": "https://localhost:8080/"
        },
        "id": "4l46g-lP9Ylv",
        "outputId": "94b23490-c2af-4e34-e288-cc8f2aafe21d"
      },
      "outputs": [
        {
          "data": {
            "text/plain": [
              "Index(['id', 'text', 'labels', 'link',\n",
              "       'Presenting Irrelevant Data (Red Herring)', 'Exaggeration/Minimisation',\n",
              "       'Appeal to fear/prejudice', 'Reductio ad hitlerum',\n",
              "       'Causal Oversimplification', 'Name calling/Labeling', 'Smears',\n",
              "       'Glittering generalities (Virtue)', 'Whataboutism', 'Loaded Language',\n",
              "       'Misrepresentation of Someone's Position (Straw Man)',\n",
              "       'Obfuscation, Intentional vagueness, Confusion', 'Appeal to authority',\n",
              "       'Black-and-white Fallacy/Dictatorship', 'Flag-waving', 'Slogans',\n",
              "       'Doubt', 'Thought-terminating cliché', 'Repetition', 'Bandwagon'],\n",
              "      dtype='object')"
            ]
          },
          "execution_count": 11,
          "metadata": {},
          "output_type": "execute_result"
        }
      ],
      "source": [
        "df_train.columns"
      ]
    },
    {
      "cell_type": "code",
      "execution_count": 12,
      "metadata": {
        "colab": {
          "base_uri": "https://localhost:8080/",
          "height": 464
        },
        "id": "ZwU5fMGl9Ylv",
        "outputId": "ab09e12a-9ed2-4d6c-8665-44fa0b3e464f"
      },
      "outputs": [
        {
          "data": {
            "text/html": [
              "<div>\n",
              "<style scoped>\n",
              "    .dataframe tbody tr th:only-of-type {\n",
              "        vertical-align: middle;\n",
              "    }\n",
              "\n",
              "    .dataframe tbody tr th {\n",
              "        vertical-align: top;\n",
              "    }\n",
              "\n",
              "    .dataframe thead th {\n",
              "        text-align: right;\n",
              "    }\n",
              "</style>\n",
              "<table border=\"1\" class=\"dataframe\">\n",
              "  <thead>\n",
              "    <tr style=\"text-align: right;\">\n",
              "      <th></th>\n",
              "      <th>id</th>\n",
              "      <th>text</th>\n",
              "      <th>labels</th>\n",
              "      <th>link</th>\n",
              "      <th>Presenting Irrelevant Data (Red Herring)</th>\n",
              "      <th>Exaggeration/Minimisation</th>\n",
              "      <th>Appeal to fear/prejudice</th>\n",
              "      <th>Reductio ad hitlerum</th>\n",
              "      <th>Causal Oversimplification</th>\n",
              "      <th>Name calling/Labeling</th>\n",
              "      <th>...</th>\n",
              "      <th>Misrepresentation of Someone's Position (Straw Man)</th>\n",
              "      <th>Obfuscation, Intentional vagueness, Confusion</th>\n",
              "      <th>Appeal to authority</th>\n",
              "      <th>Black-and-white Fallacy/Dictatorship</th>\n",
              "      <th>Flag-waving</th>\n",
              "      <th>Slogans</th>\n",
              "      <th>Doubt</th>\n",
              "      <th>Thought-terminating cliché</th>\n",
              "      <th>Repetition</th>\n",
              "      <th>Bandwagon</th>\n",
              "    </tr>\n",
              "  </thead>\n",
              "  <tbody>\n",
              "    <tr>\n",
              "      <th>0</th>\n",
              "      <td>65635</td>\n",
              "      <td>THIS IS WHY YOU NEED\\n\\nA SHARPIE WITH YOU AT ...</td>\n",
              "      <td>[Black-and-white Fallacy/Dictatorship]</td>\n",
              "      <td>https://www.facebook.com/photo/?fbid=402355213...</td>\n",
              "      <td>0</td>\n",
              "      <td>0</td>\n",
              "      <td>0</td>\n",
              "      <td>0</td>\n",
              "      <td>0</td>\n",
              "      <td>0</td>\n",
              "      <td>...</td>\n",
              "      <td>0</td>\n",
              "      <td>0</td>\n",
              "      <td>0</td>\n",
              "      <td>1</td>\n",
              "      <td>0</td>\n",
              "      <td>0</td>\n",
              "      <td>0</td>\n",
              "      <td>0</td>\n",
              "      <td>0</td>\n",
              "      <td>0</td>\n",
              "    </tr>\n",
              "    <tr>\n",
              "      <th>1</th>\n",
              "      <td>67927</td>\n",
              "      <td>GOOD NEWS!\\n\\nNAZANIN ZAGHARI-RATCLIFFE AND AN...</td>\n",
              "      <td>[Loaded Language, Glittering generalities (Vir...</td>\n",
              "      <td>https://www.facebook.com/amnesty/photos/531198...</td>\n",
              "      <td>0</td>\n",
              "      <td>0</td>\n",
              "      <td>0</td>\n",
              "      <td>0</td>\n",
              "      <td>0</td>\n",
              "      <td>0</td>\n",
              "      <td>...</td>\n",
              "      <td>0</td>\n",
              "      <td>0</td>\n",
              "      <td>0</td>\n",
              "      <td>0</td>\n",
              "      <td>0</td>\n",
              "      <td>0</td>\n",
              "      <td>0</td>\n",
              "      <td>0</td>\n",
              "      <td>0</td>\n",
              "      <td>0</td>\n",
              "    </tr>\n",
              "    <tr>\n",
              "      <th>2</th>\n",
              "      <td>68031</td>\n",
              "      <td>PAING PHYO MIN IS FREE!</td>\n",
              "      <td>[]</td>\n",
              "      <td>https://www.facebook.com/amnesty/photos/427419...</td>\n",
              "      <td>0</td>\n",
              "      <td>0</td>\n",
              "      <td>0</td>\n",
              "      <td>0</td>\n",
              "      <td>0</td>\n",
              "      <td>0</td>\n",
              "      <td>...</td>\n",
              "      <td>0</td>\n",
              "      <td>0</td>\n",
              "      <td>0</td>\n",
              "      <td>0</td>\n",
              "      <td>0</td>\n",
              "      <td>0</td>\n",
              "      <td>0</td>\n",
              "      <td>0</td>\n",
              "      <td>0</td>\n",
              "      <td>0</td>\n",
              "    </tr>\n",
              "    <tr>\n",
              "      <th>3</th>\n",
              "      <td>77490</td>\n",
              "      <td>Move your ships away!\\n\\noooook\\n\\nMove your s...</td>\n",
              "      <td>[]</td>\n",
              "      <td>https://www.facebook.com/rightpatriots/photos/...</td>\n",
              "      <td>0</td>\n",
              "      <td>0</td>\n",
              "      <td>0</td>\n",
              "      <td>0</td>\n",
              "      <td>0</td>\n",
              "      <td>0</td>\n",
              "      <td>...</td>\n",
              "      <td>0</td>\n",
              "      <td>0</td>\n",
              "      <td>0</td>\n",
              "      <td>0</td>\n",
              "      <td>0</td>\n",
              "      <td>0</td>\n",
              "      <td>0</td>\n",
              "      <td>0</td>\n",
              "      <td>0</td>\n",
              "      <td>0</td>\n",
              "    </tr>\n",
              "    <tr>\n",
              "      <th>4</th>\n",
              "      <td>67641</td>\n",
              "      <td>WHEN YOU'RE THE FBI, THEY LET YOU DO IT.</td>\n",
              "      <td>[Thought-terminating cliché]</td>\n",
              "      <td>https://www.facebook.com/AddictingInfoOrg/phot...</td>\n",
              "      <td>0</td>\n",
              "      <td>0</td>\n",
              "      <td>0</td>\n",
              "      <td>0</td>\n",
              "      <td>0</td>\n",
              "      <td>0</td>\n",
              "      <td>...</td>\n",
              "      <td>0</td>\n",
              "      <td>0</td>\n",
              "      <td>0</td>\n",
              "      <td>0</td>\n",
              "      <td>0</td>\n",
              "      <td>0</td>\n",
              "      <td>0</td>\n",
              "      <td>1</td>\n",
              "      <td>0</td>\n",
              "      <td>0</td>\n",
              "    </tr>\n",
              "  </tbody>\n",
              "</table>\n",
              "<p>5 rows × 24 columns</p>\n",
              "</div>"
            ],
            "text/plain": [
              "      id                                               text  \\\n",
              "0  65635  THIS IS WHY YOU NEED\\n\\nA SHARPIE WITH YOU AT ...   \n",
              "1  67927  GOOD NEWS!\\n\\nNAZANIN ZAGHARI-RATCLIFFE AND AN...   \n",
              "2  68031                            PAING PHYO MIN IS FREE!   \n",
              "3  77490  Move your ships away!\\n\\noooook\\n\\nMove your s...   \n",
              "4  67641           WHEN YOU'RE THE FBI, THEY LET YOU DO IT.   \n",
              "\n",
              "                                              labels  \\\n",
              "0             [Black-and-white Fallacy/Dictatorship]   \n",
              "1  [Loaded Language, Glittering generalities (Vir...   \n",
              "2                                                 []   \n",
              "3                                                 []   \n",
              "4                       [Thought-terminating cliché]   \n",
              "\n",
              "                                                link  \\\n",
              "0  https://www.facebook.com/photo/?fbid=402355213...   \n",
              "1  https://www.facebook.com/amnesty/photos/531198...   \n",
              "2  https://www.facebook.com/amnesty/photos/427419...   \n",
              "3  https://www.facebook.com/rightpatriots/photos/...   \n",
              "4  https://www.facebook.com/AddictingInfoOrg/phot...   \n",
              "\n",
              "   Presenting Irrelevant Data (Red Herring)  Exaggeration/Minimisation  \\\n",
              "0                                         0                          0   \n",
              "1                                         0                          0   \n",
              "2                                         0                          0   \n",
              "3                                         0                          0   \n",
              "4                                         0                          0   \n",
              "\n",
              "   Appeal to fear/prejudice  Reductio ad hitlerum  Causal Oversimplification  \\\n",
              "0                         0                     0                          0   \n",
              "1                         0                     0                          0   \n",
              "2                         0                     0                          0   \n",
              "3                         0                     0                          0   \n",
              "4                         0                     0                          0   \n",
              "\n",
              "   Name calling/Labeling  ...  \\\n",
              "0                      0  ...   \n",
              "1                      0  ...   \n",
              "2                      0  ...   \n",
              "3                      0  ...   \n",
              "4                      0  ...   \n",
              "\n",
              "   Misrepresentation of Someone's Position (Straw Man)  \\\n",
              "0                                                  0     \n",
              "1                                                  0     \n",
              "2                                                  0     \n",
              "3                                                  0     \n",
              "4                                                  0     \n",
              "\n",
              "   Obfuscation, Intentional vagueness, Confusion  Appeal to authority  \\\n",
              "0                                              0                    0   \n",
              "1                                              0                    0   \n",
              "2                                              0                    0   \n",
              "3                                              0                    0   \n",
              "4                                              0                    0   \n",
              "\n",
              "   Black-and-white Fallacy/Dictatorship  Flag-waving  Slogans  Doubt  \\\n",
              "0                                     1            0        0      0   \n",
              "1                                     0            0        0      0   \n",
              "2                                     0            0        0      0   \n",
              "3                                     0            0        0      0   \n",
              "4                                     0            0        0      0   \n",
              "\n",
              "   Thought-terminating cliché  Repetition  Bandwagon  \n",
              "0                           0           0          0  \n",
              "1                           0           0          0  \n",
              "2                           0           0          0  \n",
              "3                           0           0          0  \n",
              "4                           1           0          0  \n",
              "\n",
              "[5 rows x 24 columns]"
            ]
          },
          "execution_count": 12,
          "metadata": {},
          "output_type": "execute_result"
        }
      ],
      "source": [
        "for i in df_train.index:\n",
        "    labels = list(df_train['labels'][i])\n",
        "    for label in labels:\n",
        "        df_train.at[i,label] = 1\n",
        "df_train.head()"
      ]
    },
    {
      "cell_type": "code",
      "execution_count": 13,
      "metadata": {
        "colab": {
          "base_uri": "https://localhost:8080/"
        },
        "id": "iAzMMwyN9Ylw",
        "outputId": "e7c469d9-8340-4c65-df92-27bbee0fb540"
      },
      "outputs": [
        {
          "data": {
            "text/plain": [
              "Doubt\n",
              "0    6650\n",
              "1     350\n",
              "Name: count, dtype: int64"
            ]
          },
          "execution_count": 13,
          "metadata": {},
          "output_type": "execute_result"
        }
      ],
      "source": [
        "df_train['Doubt'].value_counts()"
      ]
    },
    {
      "cell_type": "code",
      "execution_count": 14,
      "metadata": {
        "colab": {
          "base_uri": "https://localhost:8080/"
        },
        "id": "_5dJoKwh9Ylw",
        "outputId": "f221f408-363b-45b9-b919-6d07cd51e53c"
      },
      "outputs": [
        {
          "data": {
            "text/plain": [
              "Index(['id', 'text', 'labels', 'link',\n",
              "       'Presenting Irrelevant Data (Red Herring)', 'Exaggeration/Minimisation',\n",
              "       'Appeal to fear/prejudice', 'Reductio ad hitlerum',\n",
              "       'Causal Oversimplification', 'Name calling/Labeling', 'Smears',\n",
              "       'Glittering generalities (Virtue)', 'Whataboutism', 'Loaded Language',\n",
              "       'Misrepresentation of Someone's Position (Straw Man)',\n",
              "       'Obfuscation, Intentional vagueness, Confusion', 'Appeal to authority',\n",
              "       'Black-and-white Fallacy/Dictatorship', 'Flag-waving', 'Slogans',\n",
              "       'Doubt', 'Thought-terminating cliché', 'Repetition', 'Bandwagon'],\n",
              "      dtype='object')"
            ]
          },
          "execution_count": 14,
          "metadata": {},
          "output_type": "execute_result"
        }
      ],
      "source": [
        "df_train.columns"
      ]
    },
    {
      "cell_type": "code",
      "execution_count": 15,
      "metadata": {
        "colab": {
          "base_uri": "https://localhost:8080/",
          "height": 184
        },
        "id": "TW5nELR69Ylw",
        "outputId": "a43199c3-e7f1-46b2-a06c-d6adb80646a1"
      },
      "outputs": [
        {
          "data": {
            "text/html": [
              "<div>\n",
              "<style scoped>\n",
              "    .dataframe tbody tr th:only-of-type {\n",
              "        vertical-align: middle;\n",
              "    }\n",
              "\n",
              "    .dataframe tbody tr th {\n",
              "        vertical-align: top;\n",
              "    }\n",
              "\n",
              "    .dataframe thead th {\n",
              "        text-align: right;\n",
              "    }\n",
              "</style>\n",
              "<table border=\"1\" class=\"dataframe\">\n",
              "  <thead>\n",
              "    <tr style=\"text-align: right;\">\n",
              "      <th></th>\n",
              "      <th>Presenting Irrelevant Data (Red Herring)</th>\n",
              "      <th>Exaggeration/Minimisation</th>\n",
              "      <th>Appeal to fear/prejudice</th>\n",
              "      <th>Reductio ad hitlerum</th>\n",
              "      <th>Causal Oversimplification</th>\n",
              "      <th>Name calling/Labeling</th>\n",
              "      <th>Smears</th>\n",
              "      <th>Glittering generalities (Virtue)</th>\n",
              "      <th>Whataboutism</th>\n",
              "      <th>Loaded Language</th>\n",
              "      <th>Misrepresentation of Someone's Position (Straw Man)</th>\n",
              "      <th>Obfuscation, Intentional vagueness, Confusion</th>\n",
              "      <th>Appeal to authority</th>\n",
              "      <th>Black-and-white Fallacy/Dictatorship</th>\n",
              "      <th>Flag-waving</th>\n",
              "      <th>Slogans</th>\n",
              "      <th>Doubt</th>\n",
              "      <th>Thought-terminating cliché</th>\n",
              "      <th>Repetition</th>\n",
              "      <th>Bandwagon</th>\n",
              "    </tr>\n",
              "  </thead>\n",
              "  <tbody>\n",
              "    <tr>\n",
              "      <th>0</th>\n",
              "      <td>6941</td>\n",
              "      <td>6644</td>\n",
              "      <td>6663</td>\n",
              "      <td>6937</td>\n",
              "      <td>6760</td>\n",
              "      <td>5482</td>\n",
              "      <td>5010</td>\n",
              "      <td>6512</td>\n",
              "      <td>6742</td>\n",
              "      <td>5250</td>\n",
              "      <td>6938</td>\n",
              "      <td>6979</td>\n",
              "      <td>6150</td>\n",
              "      <td>6220</td>\n",
              "      <td>6429</td>\n",
              "      <td>6333</td>\n",
              "      <td>6650</td>\n",
              "      <td>6472</td>\n",
              "      <td>6695</td>\n",
              "      <td>6903</td>\n",
              "    </tr>\n",
              "    <tr>\n",
              "      <th>1</th>\n",
              "      <td>59</td>\n",
              "      <td>356</td>\n",
              "      <td>337</td>\n",
              "      <td>63</td>\n",
              "      <td>240</td>\n",
              "      <td>1518</td>\n",
              "      <td>1990</td>\n",
              "      <td>488</td>\n",
              "      <td>258</td>\n",
              "      <td>1750</td>\n",
              "      <td>62</td>\n",
              "      <td>21</td>\n",
              "      <td>850</td>\n",
              "      <td>780</td>\n",
              "      <td>571</td>\n",
              "      <td>667</td>\n",
              "      <td>350</td>\n",
              "      <td>528</td>\n",
              "      <td>305</td>\n",
              "      <td>97</td>\n",
              "    </tr>\n",
              "  </tbody>\n",
              "</table>\n",
              "</div>"
            ],
            "text/plain": [
              "   Presenting Irrelevant Data (Red Herring)  Exaggeration/Minimisation  \\\n",
              "0                                      6941                       6644   \n",
              "1                                        59                        356   \n",
              "\n",
              "   Appeal to fear/prejudice  Reductio ad hitlerum  Causal Oversimplification  \\\n",
              "0                      6663                  6937                       6760   \n",
              "1                       337                    63                        240   \n",
              "\n",
              "   Name calling/Labeling  Smears  Glittering generalities (Virtue)  \\\n",
              "0                   5482    5010                              6512   \n",
              "1                   1518    1990                               488   \n",
              "\n",
              "   Whataboutism  Loaded Language  \\\n",
              "0          6742             5250   \n",
              "1           258             1750   \n",
              "\n",
              "   Misrepresentation of Someone's Position (Straw Man)  \\\n",
              "0                                               6938     \n",
              "1                                                 62     \n",
              "\n",
              "   Obfuscation, Intentional vagueness, Confusion  Appeal to authority  \\\n",
              "0                                           6979                 6150   \n",
              "1                                             21                  850   \n",
              "\n",
              "   Black-and-white Fallacy/Dictatorship  Flag-waving  Slogans  Doubt  \\\n",
              "0                                  6220         6429     6333   6650   \n",
              "1                                   780          571      667    350   \n",
              "\n",
              "   Thought-terminating cliché  Repetition  Bandwagon  \n",
              "0                        6472        6695       6903  \n",
              "1                         528         305         97  "
            ]
          },
          "execution_count": 15,
          "metadata": {},
          "output_type": "execute_result"
        }
      ],
      "source": [
        "column_names = df_train.columns[4:]\n",
        "dictionary = {}\n",
        "\n",
        "for label in column_names:\n",
        "    dictionary[label] = [df_train[label].value_counts()[0], df_train[label].value_counts()[1]]\n",
        "\n",
        "count_df = pd.DataFrame(dictionary)\n",
        "count_df.head()"
      ]
    },
    {
      "cell_type": "code",
      "execution_count": 16,
      "metadata": {
        "colab": {
          "base_uri": "https://localhost:8080/"
        },
        "id": "bf1ZgiyM9Ylw",
        "outputId": "04b48299-a78f-4ebb-c84d-4bf68ae4f73b"
      },
      "outputs": [
        {
          "data": {
            "text/plain": [
              "(2, 20)"
            ]
          },
          "execution_count": 16,
          "metadata": {},
          "output_type": "execute_result"
        }
      ],
      "source": [
        "count_df.shape"
      ]
    },
    {
      "cell_type": "code",
      "execution_count": 17,
      "metadata": {
        "colab": {
          "base_uri": "https://localhost:8080/",
          "height": 670
        },
        "id": "IKc_AAmE9Ylx",
        "outputId": "590ab7de-36e1-421a-9273-e7cd60e6e051"
      },
      "outputs": [
        {
          "data": {
            "image/png": "[encoded data removed]",
            "text/plain": [
              "<Figure size 1200x800 with 1 Axes>"
            ]
          },
          "metadata": {},
          "output_type": "display_data"
        }
      ],
      "source": [
        "sns.countplot(data=df_train[column_names].melt(),x='variable',hue='value')\n",
        "plt.legend(bbox_to_anchor=(1,1))\n",
        "plt.xticks(rotation=90);"
      ]
    },
    {
      "cell_type": "code",
      "execution_count": 18,
      "metadata": {
        "colab": {
          "base_uri": "https://localhost:8080/",
          "height": 306
        },
        "id": "EVuJC01j9Ylz",
        "outputId": "ee1ac803-eb02-4c1c-ed4e-99813bdf4d32"
      },
      "outputs": [
        {
          "data": {
            "text/plain": [
              "<matplotlib.legend.Legend at 0x1e0d0d7e850>"
            ]
          },
          "execution_count": 18,
          "metadata": {},
          "output_type": "execute_result"
        },
        {
          "data": {
            "image/png": "[encoded data removed]",
            "text/plain": [
              "<Figure size 1200x800 with 1 Axes>"
            ]
          },
          "metadata": {},
          "output_type": "display_data"
        }
      ],
      "source": [
        "sns.countplot(data=df_train[column_names].melt(),x='value',hue='variable')\n",
        "plt.legend(bbox_to_anchor=(1,1))"
      ]
    },
    {
      "cell_type": "code",
      "execution_count": 19,
      "metadata": {
        "colab": {
          "base_uri": "https://localhost:8080/",
          "height": 323
        },
        "id": "jdGirZG-9Ylz",
        "outputId": "d6ff09eb-5c01-4c98-f79f-7d8212e5b112"
      },
      "outputs": [
        {
          "data": {
            "text/plain": [
              "<Axes: >"
            ]
          },
          "execution_count": 19,
          "metadata": {},
          "output_type": "execute_result"
        },
        {
          "data": {
            "image/png": "[encoded data removed]",
            "text/plain": [
              "<Figure size 1200x800 with 1 Axes>"
            ]
          },
          "metadata": {},
          "output_type": "display_data"
        }
      ],
      "source": [
        "df_train[column_names].sum().sort_values().plot(kind='barh')"
      ]
    },
    {
      "cell_type": "markdown",
      "metadata": {
        "id": "z0nJw_Iw9Yl0"
      },
      "source": [
        "### Validation data"
      ]
    },
    {
      "cell_type": "code",
      "execution_count": 20,
      "metadata": {
        "colab": {
          "base_uri": "https://localhost:8080/",
          "height": 417
        },
        "id": "PtHKyvY09Yl0",
        "outputId": "ad443b5a-5f43-4c48-81fc-5a784c5a4c5c"
      },
      "outputs": [
        {
          "data": {
            "text/html": [
              "<div>\n",
              "<style scoped>\n",
              "    .dataframe tbody tr th:only-of-type {\n",
              "        vertical-align: middle;\n",
              "    }\n",
              "\n",
              "    .dataframe tbody tr th {\n",
              "        vertical-align: top;\n",
              "    }\n",
              "\n",
              "    .dataframe thead th {\n",
              "        text-align: right;\n",
              "    }\n",
              "</style>\n",
              "<table border=\"1\" class=\"dataframe\">\n",
              "  <thead>\n",
              "    <tr style=\"text-align: right;\">\n",
              "      <th></th>\n",
              "      <th>id</th>\n",
              "      <th>text</th>\n",
              "      <th>labels</th>\n",
              "      <th>link</th>\n",
              "    </tr>\n",
              "  </thead>\n",
              "  <tbody>\n",
              "    <tr>\n",
              "      <th>0</th>\n",
              "      <td>63135</td>\n",
              "      <td>Critical Thinking Essentials\\n\\Are my biases a...</td>\n",
              "      <td>[Doubt, Slogans]</td>\n",
              "      <td>https://www.facebook.com/SkepticalMemeSociety/...</td>\n",
              "    </tr>\n",
              "    <tr>\n",
              "      <th>1</th>\n",
              "      <td>78590</td>\n",
              "      <td>Trying to think of a single accomplishment...</td>\n",
              "      <td>[Exaggeration/Minimisation, Smears]</td>\n",
              "      <td>https://www.facebook.com/unitedstatesherald/ph...</td>\n",
              "    </tr>\n",
              "    <tr>\n",
              "      <th>2</th>\n",
              "      <td>65834</td>\n",
              "      <td>Corporate needs you to find the difference bet...</td>\n",
              "      <td>[Thought-terminating cliché]</td>\n",
              "      <td>https://www.facebook.com/photo/?fbid=356249413...</td>\n",
              "    </tr>\n",
              "    <tr>\n",
              "      <th>3</th>\n",
              "      <td>67394</td>\n",
              "      <td>KYLE RITTENHOUSE\\nALL CHARGES\\nNOT GUILTY</td>\n",
              "      <td>[Glittering generalities (Virtue)]</td>\n",
              "      <td>https://www.facebook.com/TheControversia/photo...</td>\n",
              "    </tr>\n",
              "    <tr>\n",
              "      <th>4</th>\n",
              "      <td>67709</td>\n",
              "      <td>Al Franken explains why America should tax the...</td>\n",
              "      <td>[Appeal to authority, Slogans, Thought-termina...</td>\n",
              "      <td>https://www.facebook.com/AddictingInfoOrg/phot...</td>\n",
              "    </tr>\n",
              "  </tbody>\n",
              "</table>\n",
              "</div>"
            ],
            "text/plain": [
              "      id                                               text  \\\n",
              "0  63135  Critical Thinking Essentials\\n\\Are my biases a...   \n",
              "1  78590      Trying to think of a single accomplishment...   \n",
              "2  65834  Corporate needs you to find the difference bet...   \n",
              "3  67394          KYLE RITTENHOUSE\\nALL CHARGES\\nNOT GUILTY   \n",
              "4  67709  Al Franken explains why America should tax the...   \n",
              "\n",
              "                                              labels  \\\n",
              "0                                   [Doubt, Slogans]   \n",
              "1                [Exaggeration/Minimisation, Smears]   \n",
              "2                       [Thought-terminating cliché]   \n",
              "3                 [Glittering generalities (Virtue)]   \n",
              "4  [Appeal to authority, Slogans, Thought-termina...   \n",
              "\n",
              "                                                link  \n",
              "0  https://www.facebook.com/SkepticalMemeSociety/...  \n",
              "1  https://www.facebook.com/unitedstatesherald/ph...  \n",
              "2  https://www.facebook.com/photo/?fbid=356249413...  \n",
              "3  https://www.facebook.com/TheControversia/photo...  \n",
              "4  https://www.facebook.com/AddictingInfoOrg/phot...  "
            ]
          },
          "execution_count": 20,
          "metadata": {},
          "output_type": "execute_result"
        }
      ],
      "source": [
        "df_val = pd.read_json('annotations/data/subtask1/validation.json')\n",
        "df_val.head()"
      ]
    },
    {
      "cell_type": "code",
      "execution_count": 21,
      "metadata": {
        "colab": {
          "base_uri": "https://localhost:8080/"
        },
        "id": "ff-8vCHK9Yl0",
        "outputId": "256e0eac-cd7d-4fbc-89b2-60533384e5be"
      },
      "outputs": [
        {
          "data": {
            "text/plain": [
              "(500, 4)"
            ]
          },
          "execution_count": 21,
          "metadata": {},
          "output_type": "execute_result"
        }
      ],
      "source": [
        "df_val.shape"
      ]
    },
    {
      "cell_type": "code",
      "execution_count": 22,
      "metadata": {
        "colab": {
          "base_uri": "https://localhost:8080/"
        },
        "id": "qMudvg2Z9Yl0",
        "outputId": "31edfa32-7b8b-46a6-8e6b-c2f6cb3d1054"
      },
      "outputs": [
        {
          "name": "stdout",
          "output_type": "stream",
          "text": [
            "<class 'pandas.core.frame.DataFrame'>\n",
            "RangeIndex: 500 entries, 0 to 499\n",
            "Data columns (total 4 columns):\n",
            " #   Column  Non-Null Count  Dtype \n",
            "---  ------  --------------  ----- \n",
            " 0   id      500 non-null    int64 \n",
            " 1   text    500 non-null    object\n",
            " 2   labels  500 non-null    object\n",
            " 3   link    500 non-null    object\n",
            "dtypes: int64(1), object(3)\n",
            "memory usage: 15.8+ KB\n"
          ]
        }
      ],
      "source": [
        "df_val.info()"
      ]
    },
    {
      "cell_type": "code",
      "execution_count": 23,
      "metadata": {
        "colab": {
          "base_uri": "https://localhost:8080/"
        },
        "id": "Ya_VR5Ei9Yl1",
        "outputId": "5448331e-239e-4a24-a4b4-f5ecc6dd5e78"
      },
      "outputs": [
        {
          "data": {
            "text/plain": [
              "0                                       [Doubt, Slogans]\n",
              "1                    [Exaggeration/Minimisation, Smears]\n",
              "2                           [Thought-terminating cliché]\n",
              "3                     [Glittering generalities (Virtue)]\n",
              "4      [Appeal to authority, Slogans, Thought-termina...\n",
              "                             ...                        \n",
              "495         [Slogans, Name calling/Labeling, Repetition]\n",
              "496                                                   []\n",
              "497                                                   []\n",
              "498         [Causal Oversimplification, Loaded Language]\n",
              "499    [Name calling/Labeling, Appeal to authority, B...\n",
              "Name: labels, Length: 500, dtype: object"
            ]
          },
          "execution_count": 23,
          "metadata": {},
          "output_type": "execute_result"
        }
      ],
      "source": [
        "labels_val = df_val['labels']\n",
        "labels_val"
      ]
    },
    {
      "cell_type": "code",
      "execution_count": 24,
      "metadata": {
        "colab": {
          "base_uri": "https://localhost:8080/"
        },
        "id": "H7vcDuO59Yl1",
        "outputId": "0af9c694-5b5e-4316-b50b-6e5b52568f73"
      },
      "outputs": [
        {
          "data": {
            "text/plain": [
              "(500, 24)"
            ]
          },
          "execution_count": 24,
          "metadata": {},
          "output_type": "execute_result"
        }
      ],
      "source": [
        "for label in CLASS_NAMES:\n",
        "    df_val.insert(df_val.shape[1],label,[0] * df_val.shape[0],True)\n",
        "df_val.shape"
      ]
    },
    {
      "cell_type": "code",
      "execution_count": 25,
      "metadata": {
        "colab": {
          "base_uri": "https://localhost:8080/",
          "height": 499
        },
        "id": "hmCo2EuU9Yl1",
        "outputId": "32f028ff-db29-4dcf-fa0d-df907c777c63"
      },
      "outputs": [
        {
          "data": {
            "text/html": [
              "<div>\n",
              "<style scoped>\n",
              "    .dataframe tbody tr th:only-of-type {\n",
              "        vertical-align: middle;\n",
              "    }\n",
              "\n",
              "    .dataframe tbody tr th {\n",
              "        vertical-align: top;\n",
              "    }\n",
              "\n",
              "    .dataframe thead th {\n",
              "        text-align: right;\n",
              "    }\n",
              "</style>\n",
              "<table border=\"1\" class=\"dataframe\">\n",
              "  <thead>\n",
              "    <tr style=\"text-align: right;\">\n",
              "      <th></th>\n",
              "      <th>id</th>\n",
              "      <th>text</th>\n",
              "      <th>labels</th>\n",
              "      <th>link</th>\n",
              "      <th>Presenting Irrelevant Data (Red Herring)</th>\n",
              "      <th>Exaggeration/Minimisation</th>\n",
              "      <th>Appeal to fear/prejudice</th>\n",
              "      <th>Reductio ad hitlerum</th>\n",
              "      <th>Causal Oversimplification</th>\n",
              "      <th>Name calling/Labeling</th>\n",
              "      <th>...</th>\n",
              "      <th>Misrepresentation of Someone's Position (Straw Man)</th>\n",
              "      <th>Obfuscation, Intentional vagueness, Confusion</th>\n",
              "      <th>Appeal to authority</th>\n",
              "      <th>Black-and-white Fallacy/Dictatorship</th>\n",
              "      <th>Flag-waving</th>\n",
              "      <th>Slogans</th>\n",
              "      <th>Doubt</th>\n",
              "      <th>Thought-terminating cliché</th>\n",
              "      <th>Repetition</th>\n",
              "      <th>Bandwagon</th>\n",
              "    </tr>\n",
              "  </thead>\n",
              "  <tbody>\n",
              "    <tr>\n",
              "      <th>0</th>\n",
              "      <td>63135</td>\n",
              "      <td>Critical Thinking Essentials\\n\\Are my biases a...</td>\n",
              "      <td>[Doubt, Slogans]</td>\n",
              "      <td>https://www.facebook.com/SkepticalMemeSociety/...</td>\n",
              "      <td>0</td>\n",
              "      <td>0</td>\n",
              "      <td>0</td>\n",
              "      <td>0</td>\n",
              "      <td>0</td>\n",
              "      <td>0</td>\n",
              "      <td>...</td>\n",
              "      <td>0</td>\n",
              "      <td>0</td>\n",
              "      <td>0</td>\n",
              "      <td>0</td>\n",
              "      <td>0</td>\n",
              "      <td>0</td>\n",
              "      <td>0</td>\n",
              "      <td>0</td>\n",
              "      <td>0</td>\n",
              "      <td>0</td>\n",
              "    </tr>\n",
              "    <tr>\n",
              "      <th>1</th>\n",
              "      <td>78590</td>\n",
              "      <td>Trying to think of a single accomplishment...</td>\n",
              "      <td>[Exaggeration/Minimisation, Smears]</td>\n",
              "      <td>https://www.facebook.com/unitedstatesherald/ph...</td>\n",
              "      <td>0</td>\n",
              "      <td>0</td>\n",
              "      <td>0</td>\n",
              "      <td>0</td>\n",
              "      <td>0</td>\n",
              "      <td>0</td>\n",
              "      <td>...</td>\n",
              "      <td>0</td>\n",
              "      <td>0</td>\n",
              "      <td>0</td>\n",
              "      <td>0</td>\n",
              "      <td>0</td>\n",
              "      <td>0</td>\n",
              "      <td>0</td>\n",
              "      <td>0</td>\n",
              "      <td>0</td>\n",
              "      <td>0</td>\n",
              "    </tr>\n",
              "    <tr>\n",
              "      <th>2</th>\n",
              "      <td>65834</td>\n",
              "      <td>Corporate needs you to find the difference bet...</td>\n",
              "      <td>[Thought-terminating cliché]</td>\n",
              "      <td>https://www.facebook.com/photo/?fbid=356249413...</td>\n",
              "      <td>0</td>\n",
              "      <td>0</td>\n",
              "      <td>0</td>\n",
              "      <td>0</td>\n",
              "      <td>0</td>\n",
              "      <td>0</td>\n",
              "      <td>...</td>\n",
              "      <td>0</td>\n",
              "      <td>0</td>\n",
              "      <td>0</td>\n",
              "      <td>0</td>\n",
              "      <td>0</td>\n",
              "      <td>0</td>\n",
              "      <td>0</td>\n",
              "      <td>0</td>\n",
              "      <td>0</td>\n",
              "      <td>0</td>\n",
              "    </tr>\n",
              "    <tr>\n",
              "      <th>3</th>\n",
              "      <td>67394</td>\n",
              "      <td>KYLE RITTENHOUSE\\nALL CHARGES\\nNOT GUILTY</td>\n",
              "      <td>[Glittering generalities (Virtue)]</td>\n",
              "      <td>https://www.facebook.com/TheControversia/photo...</td>\n",
              "      <td>0</td>\n",
              "      <td>0</td>\n",
              "      <td>0</td>\n",
              "      <td>0</td>\n",
              "      <td>0</td>\n",
              "      <td>0</td>\n",
              "      <td>...</td>\n",
              "      <td>0</td>\n",
              "      <td>0</td>\n",
              "      <td>0</td>\n",
              "      <td>0</td>\n",
              "      <td>0</td>\n",
              "      <td>0</td>\n",
              "      <td>0</td>\n",
              "      <td>0</td>\n",
              "      <td>0</td>\n",
              "      <td>0</td>\n",
              "    </tr>\n",
              "    <tr>\n",
              "      <th>4</th>\n",
              "      <td>67709</td>\n",
              "      <td>Al Franken explains why America should tax the...</td>\n",
              "      <td>[Appeal to authority, Slogans, Thought-termina...</td>\n",
              "      <td>https://www.facebook.com/AddictingInfoOrg/phot...</td>\n",
              "      <td>0</td>\n",
              "      <td>0</td>\n",
              "      <td>0</td>\n",
              "      <td>0</td>\n",
              "      <td>0</td>\n",
              "      <td>0</td>\n",
              "      <td>...</td>\n",
              "      <td>0</td>\n",
              "      <td>0</td>\n",
              "      <td>0</td>\n",
              "      <td>0</td>\n",
              "      <td>0</td>\n",
              "      <td>0</td>\n",
              "      <td>0</td>\n",
              "      <td>0</td>\n",
              "      <td>0</td>\n",
              "      <td>0</td>\n",
              "    </tr>\n",
              "  </tbody>\n",
              "</table>\n",
              "<p>5 rows × 24 columns</p>\n",
              "</div>"
            ],
            "text/plain": [
              "      id                                               text  \\\n",
              "0  63135  Critical Thinking Essentials\\n\\Are my biases a...   \n",
              "1  78590      Trying to think of a single accomplishment...   \n",
              "2  65834  Corporate needs you to find the difference bet...   \n",
              "3  67394          KYLE RITTENHOUSE\\nALL CHARGES\\nNOT GUILTY   \n",
              "4  67709  Al Franken explains why America should tax the...   \n",
              "\n",
              "                                              labels  \\\n",
              "0                                   [Doubt, Slogans]   \n",
              "1                [Exaggeration/Minimisation, Smears]   \n",
              "2                       [Thought-terminating cliché]   \n",
              "3                 [Glittering generalities (Virtue)]   \n",
              "4  [Appeal to authority, Slogans, Thought-termina...   \n",
              "\n",
              "                                                link  \\\n",
              "0  https://www.facebook.com/SkepticalMemeSociety/...   \n",
              "1  https://www.facebook.com/unitedstatesherald/ph...   \n",
              "2  https://www.facebook.com/photo/?fbid=356249413...   \n",
              "3  https://www.facebook.com/TheControversia/photo...   \n",
              "4  https://www.facebook.com/AddictingInfoOrg/phot...   \n",
              "\n",
              "   Presenting Irrelevant Data (Red Herring)  Exaggeration/Minimisation  \\\n",
              "0                                         0                          0   \n",
              "1                                         0                          0   \n",
              "2                                         0                          0   \n",
              "3                                         0                          0   \n",
              "4                                         0                          0   \n",
              "\n",
              "   Appeal to fear/prejudice  Reductio ad hitlerum  Causal Oversimplification  \\\n",
              "0                         0                     0                          0   \n",
              "1                         0                     0                          0   \n",
              "2                         0                     0                          0   \n",
              "3                         0                     0                          0   \n",
              "4                         0                     0                          0   \n",
              "\n",
              "   Name calling/Labeling  ...  \\\n",
              "0                      0  ...   \n",
              "1                      0  ...   \n",
              "2                      0  ...   \n",
              "3                      0  ...   \n",
              "4                      0  ...   \n",
              "\n",
              "   Misrepresentation of Someone's Position (Straw Man)  \\\n",
              "0                                                  0     \n",
              "1                                                  0     \n",
              "2                                                  0     \n",
              "3                                                  0     \n",
              "4                                                  0     \n",
              "\n",
              "   Obfuscation, Intentional vagueness, Confusion  Appeal to authority  \\\n",
              "0                                              0                    0   \n",
              "1                                              0                    0   \n",
              "2                                              0                    0   \n",
              "3                                              0                    0   \n",
              "4                                              0                    0   \n",
              "\n",
              "   Black-and-white Fallacy/Dictatorship  Flag-waving  Slogans  Doubt  \\\n",
              "0                                     0            0        0      0   \n",
              "1                                     0            0        0      0   \n",
              "2                                     0            0        0      0   \n",
              "3                                     0            0        0      0   \n",
              "4                                     0            0        0      0   \n",
              "\n",
              "   Thought-terminating cliché  Repetition  Bandwagon  \n",
              "0                           0           0          0  \n",
              "1                           0           0          0  \n",
              "2                           0           0          0  \n",
              "3                           0           0          0  \n",
              "4                           0           0          0  \n",
              "\n",
              "[5 rows x 24 columns]"
            ]
          },
          "execution_count": 25,
          "metadata": {},
          "output_type": "execute_result"
        }
      ],
      "source": [
        "df_val.head()"
      ]
    },
    {
      "cell_type": "code",
      "execution_count": 26,
      "metadata": {
        "colab": {
          "base_uri": "https://localhost:8080/"
        },
        "id": "gOo63dpj9Yl1",
        "outputId": "70785664-9138-47ba-e74d-5b77dc5fde94"
      },
      "outputs": [
        {
          "data": {
            "text/plain": [
              "Index(['id', 'text', 'labels', 'link',\n",
              "       'Presenting Irrelevant Data (Red Herring)', 'Exaggeration/Minimisation',\n",
              "       'Appeal to fear/prejudice', 'Reductio ad hitlerum',\n",
              "       'Causal Oversimplification', 'Name calling/Labeling', 'Smears',\n",
              "       'Glittering generalities (Virtue)', 'Whataboutism', 'Loaded Language',\n",
              "       'Misrepresentation of Someone's Position (Straw Man)',\n",
              "       'Obfuscation, Intentional vagueness, Confusion', 'Appeal to authority',\n",
              "       'Black-and-white Fallacy/Dictatorship', 'Flag-waving', 'Slogans',\n",
              "       'Doubt', 'Thought-terminating cliché', 'Repetition', 'Bandwagon'],\n",
              "      dtype='object')"
            ]
          },
          "execution_count": 26,
          "metadata": {},
          "output_type": "execute_result"
        }
      ],
      "source": [
        "df_val.columns"
      ]
    },
    {
      "cell_type": "code",
      "execution_count": 27,
      "metadata": {
        "colab": {
          "base_uri": "https://localhost:8080/",
          "height": 499
        },
        "id": "-xq603Fn9Yl2",
        "outputId": "0cb4d0b1-7cc3-48b4-b5af-d4f1bea53cab"
      },
      "outputs": [
        {
          "data": {
            "text/html": [
              "<div>\n",
              "<style scoped>\n",
              "    .dataframe tbody tr th:only-of-type {\n",
              "        vertical-align: middle;\n",
              "    }\n",
              "\n",
              "    .dataframe tbody tr th {\n",
              "        vertical-align: top;\n",
              "    }\n",
              "\n",
              "    .dataframe thead th {\n",
              "        text-align: right;\n",
              "    }\n",
              "</style>\n",
              "<table border=\"1\" class=\"dataframe\">\n",
              "  <thead>\n",
              "    <tr style=\"text-align: right;\">\n",
              "      <th></th>\n",
              "      <th>id</th>\n",
              "      <th>text</th>\n",
              "      <th>labels</th>\n",
              "      <th>link</th>\n",
              "      <th>Presenting Irrelevant Data (Red Herring)</th>\n",
              "      <th>Exaggeration/Minimisation</th>\n",
              "      <th>Appeal to fear/prejudice</th>\n",
              "      <th>Reductio ad hitlerum</th>\n",
              "      <th>Causal Oversimplification</th>\n",
              "      <th>Name calling/Labeling</th>\n",
              "      <th>...</th>\n",
              "      <th>Misrepresentation of Someone's Position (Straw Man)</th>\n",
              "      <th>Obfuscation, Intentional vagueness, Confusion</th>\n",
              "      <th>Appeal to authority</th>\n",
              "      <th>Black-and-white Fallacy/Dictatorship</th>\n",
              "      <th>Flag-waving</th>\n",
              "      <th>Slogans</th>\n",
              "      <th>Doubt</th>\n",
              "      <th>Thought-terminating cliché</th>\n",
              "      <th>Repetition</th>\n",
              "      <th>Bandwagon</th>\n",
              "    </tr>\n",
              "  </thead>\n",
              "  <tbody>\n",
              "    <tr>\n",
              "      <th>0</th>\n",
              "      <td>63135</td>\n",
              "      <td>Critical Thinking Essentials\\n\\Are my biases a...</td>\n",
              "      <td>[Doubt, Slogans]</td>\n",
              "      <td>https://www.facebook.com/SkepticalMemeSociety/...</td>\n",
              "      <td>0</td>\n",
              "      <td>0</td>\n",
              "      <td>0</td>\n",
              "      <td>0</td>\n",
              "      <td>0</td>\n",
              "      <td>0</td>\n",
              "      <td>...</td>\n",
              "      <td>0</td>\n",
              "      <td>0</td>\n",
              "      <td>0</td>\n",
              "      <td>0</td>\n",
              "      <td>0</td>\n",
              "      <td>1</td>\n",
              "      <td>1</td>\n",
              "      <td>0</td>\n",
              "      <td>0</td>\n",
              "      <td>0</td>\n",
              "    </tr>\n",
              "    <tr>\n",
              "      <th>1</th>\n",
              "      <td>78590</td>\n",
              "      <td>Trying to think of a single accomplishment...</td>\n",
              "      <td>[Exaggeration/Minimisation, Smears]</td>\n",
              "      <td>https://www.facebook.com/unitedstatesherald/ph...</td>\n",
              "      <td>0</td>\n",
              "      <td>1</td>\n",
              "      <td>0</td>\n",
              "      <td>0</td>\n",
              "      <td>0</td>\n",
              "      <td>0</td>\n",
              "      <td>...</td>\n",
              "      <td>0</td>\n",
              "      <td>0</td>\n",
              "      <td>0</td>\n",
              "      <td>0</td>\n",
              "      <td>0</td>\n",
              "      <td>0</td>\n",
              "      <td>0</td>\n",
              "      <td>0</td>\n",
              "      <td>0</td>\n",
              "      <td>0</td>\n",
              "    </tr>\n",
              "    <tr>\n",
              "      <th>2</th>\n",
              "      <td>65834</td>\n",
              "      <td>Corporate needs you to find the difference bet...</td>\n",
              "      <td>[Thought-terminating cliché]</td>\n",
              "      <td>https://www.facebook.com/photo/?fbid=356249413...</td>\n",
              "      <td>0</td>\n",
              "      <td>0</td>\n",
              "      <td>0</td>\n",
              "      <td>0</td>\n",
              "      <td>0</td>\n",
              "      <td>0</td>\n",
              "      <td>...</td>\n",
              "      <td>0</td>\n",
              "      <td>0</td>\n",
              "      <td>0</td>\n",
              "      <td>0</td>\n",
              "      <td>0</td>\n",
              "      <td>0</td>\n",
              "      <td>0</td>\n",
              "      <td>1</td>\n",
              "      <td>0</td>\n",
              "      <td>0</td>\n",
              "    </tr>\n",
              "    <tr>\n",
              "      <th>3</th>\n",
              "      <td>67394</td>\n",
              "      <td>KYLE RITTENHOUSE\\nALL CHARGES\\nNOT GUILTY</td>\n",
              "      <td>[Glittering generalities (Virtue)]</td>\n",
              "      <td>https://www.facebook.com/TheControversia/photo...</td>\n",
              "      <td>0</td>\n",
              "      <td>0</td>\n",
              "      <td>0</td>\n",
              "      <td>0</td>\n",
              "      <td>0</td>\n",
              "      <td>0</td>\n",
              "      <td>...</td>\n",
              "      <td>0</td>\n",
              "      <td>0</td>\n",
              "      <td>0</td>\n",
              "      <td>0</td>\n",
              "      <td>0</td>\n",
              "      <td>0</td>\n",
              "      <td>0</td>\n",
              "      <td>0</td>\n",
              "      <td>0</td>\n",
              "      <td>0</td>\n",
              "    </tr>\n",
              "    <tr>\n",
              "      <th>4</th>\n",
              "      <td>67709</td>\n",
              "      <td>Al Franken explains why America should tax the...</td>\n",
              "      <td>[Appeal to authority, Slogans, Thought-termina...</td>\n",
              "      <td>https://www.facebook.com/AddictingInfoOrg/phot...</td>\n",
              "      <td>0</td>\n",
              "      <td>0</td>\n",
              "      <td>0</td>\n",
              "      <td>0</td>\n",
              "      <td>0</td>\n",
              "      <td>0</td>\n",
              "      <td>...</td>\n",
              "      <td>0</td>\n",
              "      <td>0</td>\n",
              "      <td>1</td>\n",
              "      <td>0</td>\n",
              "      <td>0</td>\n",
              "      <td>1</td>\n",
              "      <td>0</td>\n",
              "      <td>1</td>\n",
              "      <td>0</td>\n",
              "      <td>0</td>\n",
              "    </tr>\n",
              "  </tbody>\n",
              "</table>\n",
              "<p>5 rows × 24 columns</p>\n",
              "</div>"
            ],
            "text/plain": [
              "      id                                               text  \\\n",
              "0  63135  Critical Thinking Essentials\\n\\Are my biases a...   \n",
              "1  78590      Trying to think of a single accomplishment...   \n",
              "2  65834  Corporate needs you to find the difference bet...   \n",
              "3  67394          KYLE RITTENHOUSE\\nALL CHARGES\\nNOT GUILTY   \n",
              "4  67709  Al Franken explains why America should tax the...   \n",
              "\n",
              "                                              labels  \\\n",
              "0                                   [Doubt, Slogans]   \n",
              "1                [Exaggeration/Minimisation, Smears]   \n",
              "2                       [Thought-terminating cliché]   \n",
              "3                 [Glittering generalities (Virtue)]   \n",
              "4  [Appeal to authority, Slogans, Thought-termina...   \n",
              "\n",
              "                                                link  \\\n",
              "0  https://www.facebook.com/SkepticalMemeSociety/...   \n",
              "1  https://www.facebook.com/unitedstatesherald/ph...   \n",
              "2  https://www.facebook.com/photo/?fbid=356249413...   \n",
              "3  https://www.facebook.com/TheControversia/photo...   \n",
              "4  https://www.facebook.com/AddictingInfoOrg/phot...   \n",
              "\n",
              "   Presenting Irrelevant Data (Red Herring)  Exaggeration/Minimisation  \\\n",
              "0                                         0                          0   \n",
              "1                                         0                          1   \n",
              "2                                         0                          0   \n",
              "3                                         0                          0   \n",
              "4                                         0                          0   \n",
              "\n",
              "   Appeal to fear/prejudice  Reductio ad hitlerum  Causal Oversimplification  \\\n",
              "0                         0                     0                          0   \n",
              "1                         0                     0                          0   \n",
              "2                         0                     0                          0   \n",
              "3                         0                     0                          0   \n",
              "4                         0                     0                          0   \n",
              "\n",
              "   Name calling/Labeling  ...  \\\n",
              "0                      0  ...   \n",
              "1                      0  ...   \n",
              "2                      0  ...   \n",
              "3                      0  ...   \n",
              "4                      0  ...   \n",
              "\n",
              "   Misrepresentation of Someone's Position (Straw Man)  \\\n",
              "0                                                  0     \n",
              "1                                                  0     \n",
              "2                                                  0     \n",
              "3                                                  0     \n",
              "4                                                  0     \n",
              "\n",
              "   Obfuscation, Intentional vagueness, Confusion  Appeal to authority  \\\n",
              "0                                              0                    0   \n",
              "1                                              0                    0   \n",
              "2                                              0                    0   \n",
              "3                                              0                    0   \n",
              "4                                              0                    1   \n",
              "\n",
              "   Black-and-white Fallacy/Dictatorship  Flag-waving  Slogans  Doubt  \\\n",
              "0                                     0            0        1      1   \n",
              "1                                     0            0        0      0   \n",
              "2                                     0            0        0      0   \n",
              "3                                     0            0        0      0   \n",
              "4                                     0            0        1      0   \n",
              "\n",
              "   Thought-terminating cliché  Repetition  Bandwagon  \n",
              "0                           0           0          0  \n",
              "1                           0           0          0  \n",
              "2                           1           0          0  \n",
              "3                           0           0          0  \n",
              "4                           1           0          0  \n",
              "\n",
              "[5 rows x 24 columns]"
            ]
          },
          "execution_count": 27,
          "metadata": {},
          "output_type": "execute_result"
        }
      ],
      "source": [
        "for i in df_val.index:\n",
        "    labels = list(df_val['labels'][i])\n",
        "    for label in labels:\n",
        "        df_val.at[i,label] = 1\n",
        "df_val.head()"
      ]
    },
    {
      "cell_type": "code",
      "execution_count": 28,
      "metadata": {
        "colab": {
          "base_uri": "https://localhost:8080/",
          "height": 323
        },
        "id": "TPA9Q85s9Yl2",
        "outputId": "89f9e07a-9529-4642-af1d-d3265c5b2812"
      },
      "outputs": [
        {
          "data": {
            "text/plain": [
              "<Axes: >"
            ]
          },
          "execution_count": 28,
          "metadata": {},
          "output_type": "execute_result"
        },
        {
          "data": {
            "image/png": "[encoded data removed]",
            "text/plain": [
              "<Figure size 1200x800 with 1 Axes>"
            ]
          },
          "metadata": {},
          "output_type": "display_data"
        }
      ],
      "source": [
        "df_val[column_names].sum().sort_values().plot(kind='barh')"
      ]
    },
    {
      "cell_type": "code",
      "execution_count": 29,
      "metadata": {
        "colab": {
          "base_uri": "https://localhost:8080/",
          "height": 439
        },
        "id": "Ww0uI4ShdOYr",
        "outputId": "675a3c40-4fac-4375-893f-49aa5629c84a"
      },
      "outputs": [
        {
          "data": {
            "image/png": "[encoded data removed]",
            "text/plain": [
              "<Figure size 1200x800 with 1 Axes>"
            ]
          },
          "metadata": {},
          "output_type": "display_data"
        }
      ],
      "source": [
        "train_persuade = df_train[df_train[column_names].sum(axis=1) > 0]\n",
        "train_clean = df_train[df_train[column_names].sum(axis=1) == 0]\n",
        "pd.DataFrame(dict(\n",
        "  persuade=[len(train_persuade)],\n",
        "  clean=[len(train_clean)]\n",
        ")).plot(kind='barh');"
      ]
    },
    {
      "cell_type": "code",
      "execution_count": 30,
      "metadata": {
        "colab": {
          "base_uri": "https://localhost:8080/"
        },
        "id": "5i01nxDvg1EG",
        "outputId": "5b37e24c-d462-4386-c635-fc5e40ca3b50"
      },
      "outputs": [
        {
          "data": {
            "text/plain": [
              "((5736, 24), (1264, 24))"
            ]
          },
          "execution_count": 30,
          "metadata": {},
          "output_type": "execute_result"
        }
      ],
      "source": [
        "train_persuade.shape, train_clean.shape"
      ]
    },
    {
      "cell_type": "code",
      "execution_count": 31,
      "metadata": {
        "colab": {
          "base_uri": "https://localhost:8080/"
        },
        "id": "jr0rdQ-RghkQ",
        "outputId": "d78b56cb-21ad-47f5-fa41-57af60d81391"
      },
      "outputs": [
        {
          "data": {
            "text/plain": [
              "(3264, 24)"
            ]
          },
          "execution_count": 31,
          "metadata": {},
          "output_type": "execute_result"
        }
      ],
      "source": [
        "df_train = pd.concat([\n",
        "  train_persuade.sample(2000),\n",
        "  train_clean\n",
        "])\n",
        "\n",
        "df_train.shape"
      ]
    },
    {
      "cell_type": "markdown",
      "metadata": {
        "id": "EsdL3w7f9Yl2"
      },
      "source": [
        "### Sample testing"
      ]
    },
    {
      "cell_type": "code",
      "execution_count": 32,
      "metadata": {
        "colab": {
          "base_uri": "https://localhost:8080/"
        },
        "id": "Ry0242hsU1Yu",
        "outputId": "aff4d78c-956b-4330-989b-d7bd910c1517"
      },
      "outputs": [
        {
          "data": {
            "text/plain": [
              "((3264, 21), (500, 21))"
            ]
          },
          "execution_count": 32,
          "metadata": {},
          "output_type": "execute_result"
        }
      ],
      "source": [
        "df_train = df_train.drop(columns=['id','labels','link'],axis=1)\n",
        "df_val = df_val.drop(columns=['id','labels','link'])\n",
        "\n",
        "df_train.shape, df_val.shape"
      ]
    },
    {
      "cell_type": "code",
      "execution_count": 33,
      "metadata": {
        "colab": {
          "base_uri": "https://localhost:8080/"
        },
        "id": "s2JKOXUE9Yl2",
        "outputId": "6f9815f1-d4b2-4b23-e91b-9cf2fea803c6"
      },
      "outputs": [
        {
          "data": {
            "text/plain": [
              "{'Appeal to authority',\n",
              " 'Appeal to fear/prejudice',\n",
              " 'Bandwagon',\n",
              " 'Black-and-white Fallacy/Dictatorship',\n",
              " 'Causal Oversimplification',\n",
              " 'Doubt',\n",
              " 'Exaggeration/Minimisation',\n",
              " 'Flag-waving',\n",
              " 'Glittering generalities (Virtue)',\n",
              " 'Loaded Language',\n",
              " \"Misrepresentation of Someone's Position (Straw Man)\",\n",
              " 'Name calling/Labeling',\n",
              " 'Obfuscation, Intentional vagueness, Confusion',\n",
              " 'Presenting Irrelevant Data (Red Herring)',\n",
              " 'Reductio ad hitlerum',\n",
              " 'Repetition',\n",
              " 'Slogans',\n",
              " 'Smears',\n",
              " 'Thought-terminating cliché',\n",
              " 'Whataboutism'}"
            ]
          },
          "execution_count": 33,
          "metadata": {},
          "output_type": "execute_result"
        }
      ],
      "source": [
        "CLASS_NAMES"
      ]
    },
    {
      "cell_type": "code",
      "execution_count": 34,
      "metadata": {
        "colab": {
          "base_uri": "https://localhost:8080/"
        },
        "id": "0JmwHVwI9Yl2",
        "outputId": "a68df2ff-5c92-4d97-c512-3108b9d13221"
      },
      "outputs": [
        {
          "name": "stdout",
          "output_type": "stream",
          "text": [
            "\\I'm looking forward to eating some Kangaroo anus!\\\n",
            "\n",
            "{'Presenting Irrelevant Data (Red Herring)': 0, 'Exaggeration/Minimisation': 0, 'Appeal to fear/prejudice': 0, 'Reductio ad hitlerum': 0, 'Causal Oversimplification': 0, 'Name calling/Labeling': 0, 'Smears': 0, 'Glittering generalities (Virtue)': 0, 'Whataboutism': 0, 'Loaded Language': 1, \"Misrepresentation of Someone's Position (Straw Man)\": 0, 'Obfuscation, Intentional vagueness, Confusion': 0, 'Appeal to authority': 0, 'Black-and-white Fallacy/Dictatorship': 0, 'Flag-waving': 0, 'Slogans': 0, 'Doubt': 0, 'Thought-terminating cliché': 0, 'Repetition': 0, 'Bandwagon': 0}\n"
          ]
        }
      ],
      "source": [
        "LABEL_COLUMNS = list(CLASS_NAMES)\n",
        "sample_row = df_train.iloc[16]\n",
        "sample_text = sample_row.text\n",
        "sample_label = sample_row[LABEL_COLUMNS]\n",
        "\n",
        "print(sample_text,end='\\n\\n')\n",
        "print(sample_label.to_dict())"
      ]
    },
    {
      "cell_type": "code",
      "execution_count": 35,
      "metadata": {
        "colab": {
          "base_uri": "https://localhost:8080/"
        },
        "id": "CTu9UcBlj0mg",
        "outputId": "ee763282-de09-4397-932d-24575fe21f2b"
      },
      "outputs": [
        {
          "data": {
            "text/plain": [
              "(['Presenting Irrelevant Data (Red Herring)',\n",
              "  'Exaggeration/Minimisation',\n",
              "  'Appeal to fear/prejudice',\n",
              "  'Reductio ad hitlerum',\n",
              "  'Causal Oversimplification',\n",
              "  'Name calling/Labeling',\n",
              "  'Smears',\n",
              "  'Glittering generalities (Virtue)',\n",
              "  'Whataboutism',\n",
              "  'Loaded Language',\n",
              "  \"Misrepresentation of Someone's Position (Straw Man)\",\n",
              "  'Obfuscation, Intentional vagueness, Confusion',\n",
              "  'Appeal to authority',\n",
              "  'Black-and-white Fallacy/Dictatorship',\n",
              "  'Flag-waving',\n",
              "  'Slogans',\n",
              "  'Doubt',\n",
              "  'Thought-terminating cliché',\n",
              "  'Repetition',\n",
              "  'Bandwagon'],\n",
              " 20)"
            ]
          },
          "execution_count": 35,
          "metadata": {},
          "output_type": "execute_result"
        }
      ],
      "source": [
        "LABEL_COLUMNS, len(LABEL_COLUMNS)"
      ]
    },
    {
      "cell_type": "code",
      "execution_count": 36,
      "metadata": {
        "colab": {
          "base_uri": "https://localhost:8080/"
        },
        "id": "JVvEg7nD9Yl3",
        "outputId": "a9fad365-40a5-4899-9df0-23dd477a1731"
      },
      "outputs": [
        {
          "data": {
            "text/plain": [
              "BertTokenizerFast(name_or_path='bert-base-cased', vocab_size=28996, model_max_length=512, is_fast=True, padding_side='right', truncation_side='right', special_tokens={'unk_token': '[UNK]', 'sep_token': '[SEP]', 'pad_token': '[PAD]', 'cls_token': '[CLS]', 'mask_token': '[MASK]'}, clean_up_tokenization_spaces=True),  added_tokens_decoder={\n",
              "\t0: AddedToken(\"[PAD]\", rstrip=False, lstrip=False, single_word=False, normalized=False, special=True),\n",
              "\t100: AddedToken(\"[UNK]\", rstrip=False, lstrip=False, single_word=False, normalized=False, special=True),\n",
              "\t101: AddedToken(\"[CLS]\", rstrip=False, lstrip=False, single_word=False, normalized=False, special=True),\n",
              "\t102: AddedToken(\"[SEP]\", rstrip=False, lstrip=False, single_word=False, normalized=False, special=True),\n",
              "\t103: AddedToken(\"[MASK]\", rstrip=False, lstrip=False, single_word=False, normalized=False, special=True),\n",
              "}"
            ]
          },
          "execution_count": 36,
          "metadata": {},
          "output_type": "execute_result"
        }
      ],
      "source": [
        "BERT_MODEL_NAME = 'bert-base-cased'\n",
        "tokenizer = BertTokenizer.from_pretrained(BERT_MODEL_NAME)\n",
        "tokenizer"
      ]
    },
    {
      "cell_type": "code",
      "execution_count": 37,
      "metadata": {
        "colab": {
          "base_uri": "https://localhost:8080/"
        },
        "id": "cby-bzix9Yl3",
        "outputId": "6cad5ad7-ddce-431c-adcb-94ae5bc041fb"
      },
      "outputs": [
        {
          "data": {
            "text/plain": [
              "dict_keys(['input_ids', 'attention_mask'])"
            ]
          },
          "execution_count": 37,
          "metadata": {},
          "output_type": "execute_result"
        }
      ],
      "source": [
        "encoding = tokenizer.encode_plus(sample_text,\n",
        "                      add_special_tokens=True,\n",
        "                      max_length=512,\n",
        "                      return_token_type_ids=False,\n",
        "                      padding='max_length',\n",
        "                      return_attention_mask=True,\n",
        "                      return_tensors='pt')\n",
        "encoding.keys()"
      ]
    },
    {
      "cell_type": "code",
      "execution_count": 38,
      "metadata": {
        "colab": {
          "base_uri": "https://localhost:8080/"
        },
        "id": "ODod4qjf9Yl3",
        "outputId": "2c091e76-6b95-4e1c-bc63-9cf3ab6e3b64"
      },
      "outputs": [
        {
          "data": {
            "text/plain": [
              "(torch.Size([1, 512]), torch.Size([1, 512]))"
            ]
          },
          "execution_count": 38,
          "metadata": {},
          "output_type": "execute_result"
        }
      ],
      "source": [
        "encoding['input_ids'].shape, encoding['attention_mask'].shape"
      ]
    },
    {
      "cell_type": "code",
      "execution_count": 39,
      "metadata": {
        "colab": {
          "base_uri": "https://localhost:8080/"
        },
        "id": "idWja2wJ9Yl4",
        "outputId": "a592e1f1-be92-43b6-eda5-15a8f30689f4"
      },
      "outputs": [
        {
          "data": {
            "text/plain": [
              "tensor([  101,   165,   146,   112,   182,  1702,  1977,  1106,  5497,  1199,\n",
              "        17614, 25956,  1126,  1361,   106,   165,   102,     0,     0,     0,\n",
              "            0,     0,     0,     0,     0,     0,     0,     0,     0,     0,\n",
              "            0,     0,     0,     0,     0,     0,     0,     0,     0,     0])"
            ]
          },
          "execution_count": 39,
          "metadata": {},
          "output_type": "execute_result"
        }
      ],
      "source": [
        "encoding['input_ids'].squeeze()[:40]"
      ]
    },
    {
      "cell_type": "code",
      "execution_count": 40,
      "metadata": {
        "colab": {
          "base_uri": "https://localhost:8080/"
        },
        "id": "YeNI9YI49Yl4",
        "outputId": "07f07635-c076-4f48-a684-ea9092da6bcb"
      },
      "outputs": [
        {
          "data": {
            "text/plain": [
              "tensor([1, 1, 1, 1, 1, 1, 1, 1, 1, 1, 1, 1, 1, 1, 1, 1, 1, 0, 0, 0, 0, 0, 0, 0,\n",
              "        0, 0, 0, 0, 0, 0, 0, 0, 0, 0, 0, 0, 0, 0, 0, 0])"
            ]
          },
          "execution_count": 40,
          "metadata": {},
          "output_type": "execute_result"
        }
      ],
      "source": [
        "encoding['attention_mask'].squeeze()[:40]"
      ]
    },
    {
      "cell_type": "code",
      "execution_count": 41,
      "metadata": {
        "colab": {
          "base_uri": "https://localhost:8080/"
        },
        "id": "fN9C4iIq9Yl4",
        "outputId": "9c18ab5e-cacf-4804-a5b7-d09b7aa3be28"
      },
      "outputs": [
        {
          "data": {
            "text/plain": [
              "torch.Size([512])"
            ]
          },
          "execution_count": 41,
          "metadata": {},
          "output_type": "execute_result"
        }
      ],
      "source": [
        "encoding['input_ids'].squeeze().shape"
      ]
    },
    {
      "cell_type": "code",
      "execution_count": 42,
      "metadata": {
        "colab": {
          "base_uri": "https://localhost:8080/"
        },
        "id": "8Sxh994r9Yl4",
        "outputId": "942926f0-446d-4cd9-efa9-58d0d95238f9"
      },
      "outputs": [
        {
          "name": "stdout",
          "output_type": "stream",
          "text": [
            "['[CLS]', '\\\\', 'I', \"'\", 'm', 'looking', 'forward', 'to', 'eating', 'some', 'Kang', '##aroo', 'an', '##us', '!', '\\\\', '[SEP]', '[PAD]', '[PAD]', '[PAD]']\n"
          ]
        }
      ],
      "source": [
        "print(tokenizer.convert_ids_to_tokens(encoding['input_ids'].squeeze())[:20])"
      ]
    },
    {
      "cell_type": "code",
      "execution_count": 43,
      "metadata": {
        "colab": {
          "base_uri": "https://localhost:8080/",
          "height": 444
        },
        "id": "-vxbmpH_9YmF",
        "outputId": "92424a39-e1a6-4643-aaed-85b060efe9cc"
      },
      "outputs": [
        {
          "data": {
            "text/plain": [
              "(0.0, 512.0)"
            ]
          },
          "execution_count": 43,
          "metadata": {},
          "output_type": "execute_result"
        },
        {
          "data": {
            "image/png": "[encoded data removed]",
            "text/plain": [
              "<Figure size 1200x800 with 1 Axes>"
            ]
          },
          "metadata": {},
          "output_type": "display_data"
        }
      ],
      "source": [
        "token_counts = []\n",
        "\n",
        "for _, row in df_train.iterrows():\n",
        "    token_count = len(tokenizer.encode(\n",
        "        row['text'],\n",
        "        max_length=512,\n",
        "        truncation=True\n",
        "    ))\n",
        "    token_counts.append(token_count)\n",
        "\n",
        "sns.histplot(token_counts)\n",
        "plt.xlim([0,512])"
      ]
    },
    {
      "cell_type": "code",
      "execution_count": 44,
      "metadata": {
        "id": "W0na7xS_9YmF"
      },
      "outputs": [],
      "source": [
        "MAX_TOKEN_COUNT = 256"
      ]
    },
    {
      "cell_type": "markdown",
      "metadata": {
        "id": "mXYHMhpW9YmF"
      },
      "source": [
        "### Special Tokens"
      ]
    },
    {
      "cell_type": "code",
      "execution_count": 45,
      "metadata": {
        "colab": {
          "base_uri": "https://localhost:8080/"
        },
        "id": "eYadpb5h9YmG",
        "outputId": "81415eca-239a-4a9f-d8d2-25acbffc214d"
      },
      "outputs": [
        {
          "data": {
            "text/plain": [
              "('[SEP]', 102)"
            ]
          },
          "execution_count": 45,
          "metadata": {},
          "output_type": "execute_result"
        }
      ],
      "source": [
        "tokenizer.sep_token, tokenizer.sep_token_id"
      ]
    },
    {
      "cell_type": "code",
      "execution_count": 46,
      "metadata": {
        "colab": {
          "base_uri": "https://localhost:8080/"
        },
        "id": "E0k4-zXQ9YmG",
        "outputId": "52c60893-ad06-41e4-ccfa-c84438828468"
      },
      "outputs": [
        {
          "data": {
            "text/plain": [
              "('[CLS]', 101)"
            ]
          },
          "execution_count": 46,
          "metadata": {},
          "output_type": "execute_result"
        }
      ],
      "source": [
        "tokenizer.cls_token, tokenizer.cls_token_id"
      ]
    },
    {
      "cell_type": "code",
      "execution_count": 47,
      "metadata": {
        "colab": {
          "base_uri": "https://localhost:8080/"
        },
        "id": "hGguZOT29YmG",
        "outputId": "f9e379cc-24d4-46cb-afb8-4aeb23e99f0a"
      },
      "outputs": [
        {
          "data": {
            "text/plain": [
              "('[PAD]', 0)"
            ]
          },
          "execution_count": 47,
          "metadata": {},
          "output_type": "execute_result"
        }
      ],
      "source": [
        "tokenizer.pad_token, tokenizer.pad_token_id"
      ]
    },
    {
      "cell_type": "code",
      "execution_count": 48,
      "metadata": {
        "colab": {
          "base_uri": "https://localhost:8080/"
        },
        "id": "_ArFLjaf9YmG",
        "outputId": "08fee69b-7f11-436b-cd4a-d5192d3e6f61"
      },
      "outputs": [
        {
          "data": {
            "text/plain": [
              "('[UNK]', 100)"
            ]
          },
          "execution_count": 48,
          "metadata": {},
          "output_type": "execute_result"
        }
      ],
      "source": [
        "tokenizer.unk_token, tokenizer.unk_token_id"
      ]
    },
    {
      "cell_type": "markdown",
      "metadata": {
        "id": "q4LRSQig9YmG"
      },
      "source": [
        "### Creating the Dataset & Loading the model"
      ]
    },
    {
      "cell_type": "code",
      "execution_count": 49,
      "metadata": {
        "id": "VOyWHwJ79YmG"
      },
      "outputs": [],
      "source": [
        "class PersuasionDataset(Dataset):\n",
        "    def __init__(self,\n",
        "                 data: pd.DataFrame,\n",
        "                 tokenizer: BertTokenizer,\n",
        "                 max_token_len: int = 128):\n",
        "        self.data=data\n",
        "        self.tokenizer=tokenizer\n",
        "        self.max_token_len=max_token_len\n",
        "\n",
        "    def __len__(self):\n",
        "        return len(self.data)\n",
        "\n",
        "    def __getitem__(self, index: int):\n",
        "        data_row = self.data.iloc[index]\n",
        "        meme_text = data_row.text\n",
        "        labels = data_row[LABEL_COLUMNS]\n",
        "\n",
        "        encoding = self.tokenizer.encode_plus(\n",
        "            meme_text,\n",
        "            add_special_tokens=True,\n",
        "            max_length=self.max_token_len,\n",
        "            return_token_type_ids=False,\n",
        "            padding='max_length',\n",
        "            truncation=True,\n",
        "            return_attention_mask=True,\n",
        "            return_tensors='pt'\n",
        "        )\n",
        "\n",
        "        return dict(\n",
        "            meme_text=meme_text,\n",
        "            input_ids=encoding['input_ids'].flatten(),\n",
        "            attention_mask=encoding['attention_mask'].flatten(),\n",
        "            labels=torch.FloatTensor(labels)\n",
        "        )"
      ]
    },
    {
      "cell_type": "code",
      "execution_count": 50,
      "metadata": {
        "colab": {
          "base_uri": "https://localhost:8080/"
        },
        "id": "zt8vI6qq9YmG",
        "outputId": "454d40cb-430f-4934-f4ec-fca4192bd1eb"
      },
      "outputs": [
        {
          "data": {
            "text/plain": [
              "<__main__.PersuasionDataset at 0x1e0d22d53d0>"
            ]
          },
          "execution_count": 50,
          "metadata": {},
          "output_type": "execute_result"
        }
      ],
      "source": [
        "train_dataset = PersuasionDataset(df_train,tokenizer,MAX_TOKEN_COUNT)\n",
        "train_dataset"
      ]
    },
    {
      "cell_type": "code",
      "execution_count": 51,
      "metadata": {
        "colab": {
          "base_uri": "https://localhost:8080/"
        },
        "id": "jglu9M9Y9YmH",
        "outputId": "8074e9e8-c7df-4e8f-bf7b-74b7f3a54510"
      },
      "outputs": [
        {
          "data": {
            "text/plain": [
              "dict_keys(['meme_text', 'input_ids', 'attention_mask', 'labels'])"
            ]
          },
          "execution_count": 51,
          "metadata": {},
          "output_type": "execute_result"
        }
      ],
      "source": [
        "sample_item = train_dataset[0]\n",
        "sample_item.keys()"
      ]
    },
    {
      "cell_type": "code",
      "execution_count": 52,
      "metadata": {
        "colab": {
          "base_uri": "https://localhost:8080/",
          "height": 53
        },
        "id": "8IAw2v_M9YmH",
        "outputId": "24f8a448-e638-4477-8c06-4d2e25b1726e"
      },
      "outputs": [
        {
          "data": {
            "text/plain": [
              "\"CIA's OPERATION MOCKINGBIRD\\\\n\\\\n\\\\We'll know our disinformation program is complete when everything the American public believes is false.\\\\\""
            ]
          },
          "execution_count": 52,
          "metadata": {},
          "output_type": "execute_result"
        }
      ],
      "source": [
        "sample_item['meme_text']"
      ]
    },
    {
      "cell_type": "code",
      "execution_count": 53,
      "metadata": {
        "colab": {
          "base_uri": "https://localhost:8080/"
        },
        "id": "XROCGeS69YmH",
        "outputId": "5589478a-de40-44e5-de09-3542f22e7db7"
      },
      "outputs": [
        {
          "data": {
            "text/plain": [
              "(tensor([0., 1., 0., 0., 0., 1., 1., 0., 0., 0., 0., 0., 0., 0., 0., 0., 0., 0.,\n",
              "         0., 0.]),\n",
              " torch.Size([20]))"
            ]
          },
          "execution_count": 53,
          "metadata": {},
          "output_type": "execute_result"
        }
      ],
      "source": [
        "sample_item['labels'], sample_item['labels'].shape"
      ]
    },
    {
      "cell_type": "code",
      "execution_count": 54,
      "metadata": {
        "colab": {
          "base_uri": "https://localhost:8080/"
        },
        "id": "pjXm73jU9YmH",
        "outputId": "0dd474e0-1da8-4235-ae2f-c44353e771b1"
      },
      "outputs": [
        {
          "data": {
            "text/plain": [
              "torch.Size([256])"
            ]
          },
          "execution_count": 54,
          "metadata": {},
          "output_type": "execute_result"
        }
      ],
      "source": [
        "sample_item['input_ids'].shape"
      ]
    },
    {
      "cell_type": "code",
      "execution_count": 55,
      "metadata": {
        "colab": {
          "base_uri": "https://localhost:8080/"
        },
        "id": "CYZU2XrR9YmH",
        "outputId": "72e2f53f-77a6-4e70-fa3c-1e94afc41faf"
      },
      "outputs": [
        {
          "data": {
            "text/plain": [
              "BertModel(\n",
              "  (embeddings): BertEmbeddings(\n",
              "    (word_embeddings): Embedding(28996, 768, padding_idx=0)\n",
              "    (position_embeddings): Embedding(512, 768)\n",
              "    (token_type_embeddings): Embedding(2, 768)\n",
              "    (LayerNorm): LayerNorm((768,), eps=1e-12, elementwise_affine=True)\n",
              "    (dropout): Dropout(p=0.1, inplace=False)\n",
              "  )\n",
              "  (encoder): BertEncoder(\n",
              "    (layer): ModuleList(\n",
              "      (0-11): 12 x BertLayer(\n",
              "        (attention): BertAttention(\n",
              "          (self): BertSelfAttention(\n",
              "            (query): Linear(in_features=768, out_features=768, bias=True)\n",
              "            (key): Linear(in_features=768, out_features=768, bias=True)\n",
              "            (value): Linear(in_features=768, out_features=768, bias=True)\n",
              "            (dropout): Dropout(p=0.1, inplace=False)\n",
              "          )\n",
              "          (output): BertSelfOutput(\n",
              "            (dense): Linear(in_features=768, out_features=768, bias=True)\n",
              "            (LayerNorm): LayerNorm((768,), eps=1e-12, elementwise_affine=True)\n",
              "            (dropout): Dropout(p=0.1, inplace=False)\n",
              "          )\n",
              "        )\n",
              "        (intermediate): BertIntermediate(\n",
              "          (dense): Linear(in_features=768, out_features=3072, bias=True)\n",
              "          (intermediate_act_fn): GELUActivation()\n",
              "        )\n",
              "        (output): BertOutput(\n",
              "          (dense): Linear(in_features=3072, out_features=768, bias=True)\n",
              "          (LayerNorm): LayerNorm((768,), eps=1e-12, elementwise_affine=True)\n",
              "          (dropout): Dropout(p=0.1, inplace=False)\n",
              "        )\n",
              "      )\n",
              "    )\n",
              "  )\n",
              "  (pooler): BertPooler(\n",
              "    (dense): Linear(in_features=768, out_features=768, bias=True)\n",
              "    (activation): Tanh()\n",
              "  )\n",
              ")"
            ]
          },
          "execution_count": 55,
          "metadata": {},
          "output_type": "execute_result"
        }
      ],
      "source": [
        "bert_model = BertModel.from_pretrained(BERT_MODEL_NAME,return_dict=True)\n",
        "bert_model"
      ]
    },
    {
      "cell_type": "code",
      "execution_count": 56,
      "metadata": {
        "colab": {
          "base_uri": "https://localhost:8080/"
        },
        "id": "VWz4pNCw9YmH",
        "outputId": "44130acc-cd3d-4873-9b61-41c840980a8c"
      },
      "outputs": [
        {
          "data": {
            "text/plain": [
              "torch.Size([1, 256])"
            ]
          },
          "execution_count": 56,
          "metadata": {},
          "output_type": "execute_result"
        }
      ],
      "source": [
        "sample_item['input_ids'].unsqueeze(dim=0).shape"
      ]
    },
    {
      "cell_type": "code",
      "execution_count": 57,
      "metadata": {
        "colab": {
          "base_uri": "https://localhost:8080/"
        },
        "id": "6-ue2ZFl9YmI",
        "outputId": "0f77ae1b-229a-4d1b-8c18-afda1ecb9d4c"
      },
      "outputs": [
        {
          "data": {
            "text/plain": [
              "(torch.Size([1, 256, 768]), torch.Size([1, 768]))"
            ]
          },
          "execution_count": 57,
          "metadata": {},
          "output_type": "execute_result"
        }
      ],
      "source": [
        "prediction = bert_model(sample_item['input_ids'].unsqueeze(dim=0),\n",
        "                        sample_item['attention_mask'].unsqueeze(dim=0))\n",
        "\n",
        "prediction.last_hidden_state.shape, prediction.pooler_output.shape"
      ]
    },
    {
      "cell_type": "code",
      "execution_count": 58,
      "metadata": {
        "colab": {
          "base_uri": "https://localhost:8080/"
        },
        "id": "b1qh2xtRfJyD",
        "outputId": "bfd8361b-bb1c-4dfc-dbb2-4d8b057b0608"
      },
      "outputs": [
        {
          "data": {
            "text/plain": [
              "(torch.Size([8, 256]), torch.Size([8, 256]))"
            ]
          },
          "execution_count": 58,
          "metadata": {},
          "output_type": "execute_result"
        }
      ],
      "source": [
        "sample_batch = next(iter(DataLoader(train_dataset, batch_size=8)))\n",
        "\n",
        "sample_batch[\"input_ids\"].shape, sample_batch[\"attention_mask\"].shape"
      ]
    },
    {
      "cell_type": "code",
      "execution_count": 59,
      "metadata": {
        "colab": {
          "base_uri": "https://localhost:8080/"
        },
        "id": "iIqa0tMRl_y5",
        "outputId": "7eea68c4-4aea-4af9-95d7-cf041605ae52"
      },
      "outputs": [
        {
          "data": {
            "text/plain": [
              "(torch.Size([8, 256, 768]), torch.Size([8, 768]))"
            ]
          },
          "execution_count": 59,
          "metadata": {},
          "output_type": "execute_result"
        }
      ],
      "source": [
        "output = bert_model(sample_batch[\"input_ids\"], sample_batch[\"attention_mask\"])\n",
        "\n",
        "output.last_hidden_state.shape, output.pooler_output.shape"
      ]
    },
    {
      "cell_type": "markdown",
      "metadata": {
        "id": "4jp1MT3Y9YmI"
      },
      "source": [
        "### Creating the Data Module"
      ]
    },
    {
      "cell_type": "code",
      "execution_count": 60,
      "metadata": {
        "id": "GWm_wpPO9YmI"
      },
      "outputs": [],
      "source": [
        "class PersuasionDataModule(pl.LightningDataModule):\n",
        "    def __init__(self,train_df,test_df,tokenizer,batch_size=8,max_token_len=128):\n",
        "        super().__init__()\n",
        "        self.train_df=train_df\n",
        "        self.test_df=test_df\n",
        "        self.tokenizer=tokenizer\n",
        "        self.batch_size=batch_size\n",
        "        self.max_token_len=max_token_len\n",
        "\n",
        "    def setup(self,stage=None):\n",
        "        self.train_dataset = PersuasionDataset(\n",
        "            self.train_df,\n",
        "            self.tokenizer,\n",
        "            self.max_token_len\n",
        "        )\n",
        "\n",
        "        self.test_dataset = PersuasionDataset(\n",
        "            self.test_df,\n",
        "            self.tokenizer,\n",
        "            self.max_token_len\n",
        "        )\n",
        "\n",
        "    def train_dataloader(self):\n",
        "        return DataLoader(\n",
        "            self.train_dataset,\n",
        "            batch_size=self.batch_size,\n",
        "            shuffle=True,\n",
        "        )\n",
        "\n",
        "    def val_dataloader(self):\n",
        "        return DataLoader(\n",
        "            self.test_dataset,\n",
        "            batch_size=self.batch_size,\n",
        "        )\n",
        "\n",
        "    def test_dataloader(self):\n",
        "        return DataLoader(\n",
        "            self.test_dataset,\n",
        "            batch_size=self.batch_size,\n",
        "        )"
      ]
    },
    {
      "cell_type": "code",
      "execution_count": 61,
      "metadata": {
        "colab": {
          "base_uri": "https://localhost:8080/"
        },
        "id": "l3K_IyHb9YmI",
        "outputId": "74a57f75-8bc1-4294-a1ba-c08525809644"
      },
      "outputs": [
        {
          "data": {
            "text/plain": [
              "<__main__.PersuasionDataModule at 0x1e0d2478410>"
            ]
          },
          "execution_count": 61,
          "metadata": {},
          "output_type": "execute_result"
        }
      ],
      "source": [
        "EPOCHS = 10\n",
        "BATCH_SIZE = 12\n",
        "\n",
        "data_module = PersuasionDataModule(df_train,df_val,tokenizer,BATCH_SIZE,MAX_TOKEN_COUNT)\n",
        "data_module"
      ]
    },
    {
      "cell_type": "code",
      "execution_count": 62,
      "metadata": {
        "id": "23jgdn_E9YmI"
      },
      "outputs": [],
      "source": [
        "class PersuasionTechniqueDetector(pl.LightningModule):\n",
        "    def __init__(self,n_classes: int,n_training_steps=None,n_warmup_steps=None):\n",
        "        super().__init__()\n",
        "        self.bert = BertModel.from_pretrained(BERT_MODEL_NAME,return_dict=True)\n",
        "        self.classifier = nn.Linear(self.bert.config.hidden_size,n_classes)\n",
        "        self.n_training_steps = n_training_steps\n",
        "        self.n_warmup_steps = n_warmup_steps\n",
        "        self.criterion = nn.BCELoss()\n",
        "        self.outputs = []\n",
        "\n",
        "    def forward(self,input_ids,attention_mask,labels=None):\n",
        "        output = self.bert(input_ids,attention_mask=attention_mask)\n",
        "        output = self.classifier(output.pooler_output)\n",
        "        output = torch.sigmoid(output)\n",
        "        loss = 0\n",
        "\n",
        "        if labels is not None:\n",
        "            loss = self.criterion(output,labels)\n",
        "\n",
        "        return loss, output\n",
        "\n",
        "    def training_step(self,batch):\n",
        "        input_ids = batch['input_ids']\n",
        "        attention_mask = batch['attention_mask']\n",
        "        labels = batch['labels']\n",
        "        loss, output = self(input_ids,attention_mask,labels)\n",
        "        self.log('train_loss',loss,prog_bar=True,logger=True)\n",
        "        output_dict = {\n",
        "            'loss': loss,\n",
        "            'predictions': output,\n",
        "            'labels': labels\n",
        "        }\n",
        "        self.outputs.append(output_dict)\n",
        "\n",
        "        return output_dict\n",
        "\n",
        "    def validation_step(self, batch, batch_idx):\n",
        "        input_ids = batch[\"input_ids\"]\n",
        "        attention_mask = batch[\"attention_mask\"]\n",
        "        labels = batch[\"labels\"]\n",
        "        loss, outputs = self(input_ids, attention_mask, labels)\n",
        "        self.log(\"val_loss\", loss, prog_bar=True, logger=True)\n",
        "\n",
        "        return loss\n",
        "\n",
        "    def test_step(self,batch):\n",
        "        input_ids = batch['input_ids']\n",
        "        attention_mask = batch['attention_mask']\n",
        "        labels = batch['labels']\n",
        "        loss, output = self(input_ids,attention_mask,labels)\n",
        "        self.log('test_loss',loss,prog_bar=True,logger=True)\n",
        "\n",
        "        return loss\n",
        "\n",
        "    def on_train_epoch_end(self):\n",
        "        labels = []\n",
        "        predictions = []\n",
        "\n",
        "        for output in self.outputs:\n",
        "            for out_labels in output['labels'].detach().cpu():\n",
        "                labels.append(out_labels)\n",
        "            for out_predictions in output['predictions'].detach().cpu():\n",
        "                predictions.append(out_predictions)\n",
        "        self.outputs.clear()\n",
        "\n",
        "        labels = torch.stack(labels).int()\n",
        "        predictions = torch.stack(predictions)\n",
        "\n",
        "        for i, name in enumerate(LABEL_COLUMNS):\n",
        "            class_roc_auc = auroc(predictions[:,i].unsqueeze(dim=0),labels[:,i].unsqueeze(dim=0),task='multilabel',num_labels=3264)\n",
        "            self.logger.experiment.add_scalar(f'{name}_roc_auc/Train',class_roc_auc,self.current_epoch)\n",
        "\n",
        "    def configure_optimizers(self):\n",
        "        optimizer = torch.optim.AdamW(self.parameters(),lr=2e-5)\n",
        "        scheduler = get_linear_schedule_with_warmup(\n",
        "            optimizer,\n",
        "            num_warmup_steps=self.n_warmup_steps,\n",
        "            num_training_steps=self.n_training_steps\n",
        "        )\n",
        "\n",
        "        return {\n",
        "            'optimizer': optimizer,\n",
        "            'lr_scheduler': {\n",
        "                'scheduler': scheduler,\n",
        "                'interval': 'step'\n",
        "            }\n",
        "        }"
      ]
    },
    {
      "cell_type": "markdown",
      "metadata": {
        "id": "VILoq08i9YmI"
      },
      "source": [
        "### Optimizer Scheduler"
      ]
    },
    {
      "cell_type": "code",
      "execution_count": 63,
      "metadata": {
        "id": "ZoV3cR_I9YmJ"
      },
      "outputs": [],
      "source": [
        "test_model = nn.Linear(in_features=2,out_features=1)\n",
        "optimizer = torch.optim.AdamW(params=test_model.parameters(),lr=0.001)\n",
        "\n",
        "warmup_steps = 20\n",
        "total_training_steps = 100\n",
        "\n",
        "scheduler = get_linear_schedule_with_warmup(\n",
        "    optimizer=optimizer,\n",
        "    num_warmup_steps=warmup_steps,\n",
        "    num_training_steps=total_training_steps\n",
        ")\n",
        "\n",
        "learning_rate_history = []\n",
        "\n",
        "for step in range(total_training_steps):\n",
        "    optimizer.step()\n",
        "    scheduler.step()\n",
        "    learning_rate_history.append(optimizer.param_groups[0]['lr'])"
      ]
    },
    {
      "cell_type": "code",
      "execution_count": 64,
      "metadata": {
        "colab": {
          "base_uri": "https://localhost:8080/",
          "height": 432
        },
        "id": "f9yV0bCq9YmJ",
        "outputId": "9f6c0d84-225c-4721-8c1b-6b1c8aeb0fb4"
      },
      "outputs": [
        {
          "data": {
            "image/png": "[encoded data removed]",
            "text/plain": [
              "<Figure size 1200x800 with 1 Axes>"
            ]
          },
          "metadata": {},
          "output_type": "display_data"
        }
      ],
      "source": [
        "plt.plot(learning_rate_history,label='learning rate')\n",
        "plt.axvline(x=warmup_steps,color='red',linestyle=(0,(5,10)),label='warmup end')\n",
        "plt.legend()\n",
        "plt.title('Linear learning rate scheduling over training steps')\n",
        "plt.xlabel('Step')\n",
        "plt.ylabel('Learning rate')\n",
        "plt.tight_layout();"
      ]
    },
    {
      "cell_type": "code",
      "execution_count": 65,
      "metadata": {
        "colab": {
          "base_uri": "https://localhost:8080/"
        },
        "id": "Lke8YqgA9YmJ",
        "outputId": "deeca10e-f2b2-4f63-bc94-5f8e797e9ea5"
      },
      "outputs": [
        {
          "data": {
            "text/plain": [
              "(272, 2720, 544)"
            ]
          },
          "execution_count": 65,
          "metadata": {},
          "output_type": "execute_result"
        }
      ],
      "source": [
        "steps_per_epoch = len(df_train) // BATCH_SIZE\n",
        "total_training_steps = steps_per_epoch * EPOCHS\n",
        "warmup_steps = total_training_steps // 5\n",
        "\n",
        "steps_per_epoch, total_training_steps, warmup_steps"
      ]
    },
    {
      "cell_type": "code",
      "execution_count": 66,
      "metadata": {
        "colab": {
          "base_uri": "https://localhost:8080/"
        },
        "id": "bTcSOZ159YmJ",
        "outputId": "a044bde6-3054-4da5-e6f8-dfea07309b37"
      },
      "outputs": [
        {
          "data": {
            "text/plain": [
              "PersuasionTechniqueDetector(\n",
              "  (bert): BertModel(\n",
              "    (embeddings): BertEmbeddings(\n",
              "      (word_embeddings): Embedding(28996, 768, padding_idx=0)\n",
              "      (position_embeddings): Embedding(512, 768)\n",
              "      (token_type_embeddings): Embedding(2, 768)\n",
              "      (LayerNorm): LayerNorm((768,), eps=1e-12, elementwise_affine=True)\n",
              "      (dropout): Dropout(p=0.1, inplace=False)\n",
              "    )\n",
              "    (encoder): BertEncoder(\n",
              "      (layer): ModuleList(\n",
              "        (0-11): 12 x BertLayer(\n",
              "          (attention): BertAttention(\n",
              "            (self): BertSelfAttention(\n",
              "              (query): Linear(in_features=768, out_features=768, bias=True)\n",
              "              (key): Linear(in_features=768, out_features=768, bias=True)\n",
              "              (value): Linear(in_features=768, out_features=768, bias=True)\n",
              "              (dropout): Dropout(p=0.1, inplace=False)\n",
              "            )\n",
              "            (output): BertSelfOutput(\n",
              "              (dense): Linear(in_features=768, out_features=768, bias=True)\n",
              "              (LayerNorm): LayerNorm((768,), eps=1e-12, elementwise_affine=True)\n",
              "              (dropout): Dropout(p=0.1, inplace=False)\n",
              "            )\n",
              "          )\n",
              "          (intermediate): BertIntermediate(\n",
              "            (dense): Linear(in_features=768, out_features=3072, bias=True)\n",
              "            (intermediate_act_fn): GELUActivation()\n",
              "          )\n",
              "          (output): BertOutput(\n",
              "            (dense): Linear(in_features=3072, out_features=768, bias=True)\n",
              "            (LayerNorm): LayerNorm((768,), eps=1e-12, elementwise_affine=True)\n",
              "            (dropout): Dropout(p=0.1, inplace=False)\n",
              "          )\n",
              "        )\n",
              "      )\n",
              "    )\n",
              "    (pooler): BertPooler(\n",
              "      (dense): Linear(in_features=768, out_features=768, bias=True)\n",
              "      (activation): Tanh()\n",
              "    )\n",
              "  )\n",
              "  (classifier): Linear(in_features=768, out_features=20, bias=True)\n",
              "  (criterion): BCELoss()\n",
              ")"
            ]
          },
          "execution_count": 66,
          "metadata": {},
          "output_type": "execute_result"
        }
      ],
      "source": [
        "model = PersuasionTechniqueDetector(\n",
        "    n_classes=len(CLASS_NAMES),\n",
        "    n_warmup_steps=warmup_steps,\n",
        "    n_training_steps=total_training_steps\n",
        ")\n",
        "\n",
        "model"
      ]
    },
    {
      "cell_type": "code",
      "execution_count": 67,
      "metadata": {
        "id": "AeA1jcoRbaMs"
      },
      "outputs": [],
      "source": [
        "for param in model.bert.parameters():\n",
        "    param.requires_grad = False"
      ]
    },
    {
      "cell_type": "markdown",
      "metadata": {
        "id": "fTttxkc-9YmJ"
      },
      "source": [
        "### Base Model Evaluation"
      ]
    },
    {
      "cell_type": "code",
      "execution_count": 68,
      "metadata": {
        "id": "WzcHe0OO9YmJ"
      },
      "outputs": [],
      "source": [
        "loss = nn.BCELoss()\n",
        "\n",
        "prediction = torch.FloatTensor(\n",
        "    [10.95873564, 1.07321467, 1.58524066, 0.03839076, 15.72987556, 1.09513213]\n",
        ")\n",
        "\n",
        "labels = torch.FloatTensor(\n",
        "    [1., 0., 0., 0., 1., 0.]\n",
        ")"
      ]
    },
    {
      "cell_type": "code",
      "execution_count": 69,
      "metadata": {
        "colab": {
          "base_uri": "https://localhost:8080/"
        },
        "id": "Ly2V44-D9YmJ",
        "outputId": "07c3b1ef-4ea4-48ac-a7e8-ac00d92d9622"
      },
      "outputs": [
        {
          "data": {
            "text/plain": [
              "tensor([1.0000, 0.7452, 0.8299, 0.5096, 1.0000, 0.7493])"
            ]
          },
          "execution_count": 69,
          "metadata": {},
          "output_type": "execute_result"
        }
      ],
      "source": [
        "torch.sigmoid(prediction)"
      ]
    },
    {
      "cell_type": "code",
      "execution_count": 70,
      "metadata": {
        "colab": {
          "base_uri": "https://localhost:8080/"
        },
        "id": "WqPT3KLl9YmK",
        "outputId": "ab31eff5-789f-45bb-b85d-762ada80893e"
      },
      "outputs": [
        {
          "data": {
            "text/plain": [
              "tensor(0.8725)"
            ]
          },
          "execution_count": 70,
          "metadata": {},
          "output_type": "execute_result"
        }
      ],
      "source": [
        "loss(torch.sigmoid(prediction),labels)"
      ]
    },
    {
      "cell_type": "code",
      "execution_count": 71,
      "metadata": {
        "colab": {
          "base_uri": "https://localhost:8080/"
        },
        "id": "MNuTA4uW9YmK",
        "outputId": "2872d817-f95e-4639-a80f-3ffe545c4ec1"
      },
      "outputs": [
        {
          "data": {
            "text/plain": [
              "tensor([[0.5535, 0.5321, 0.3730, 0.3770, 0.4677, 0.5131, 0.4470, 0.4087, 0.4602,\n",
              "         0.3766, 0.4414, 0.3911, 0.6186, 0.6189, 0.5411, 0.5516, 0.5841, 0.3551,\n",
              "         0.5265, 0.5256]], grad_fn=<SigmoidBackward0>)"
            ]
          },
          "execution_count": 71,
          "metadata": {},
          "output_type": "execute_result"
        }
      ],
      "source": [
        "_, predictions = model(sample_item['input_ids'].unsqueeze(dim=0),sample_item['attention_mask'].unsqueeze(dim=0))\n",
        "predictions"
      ]
    },
    {
      "cell_type": "code",
      "execution_count": 72,
      "metadata": {
        "colab": {
          "base_uri": "https://localhost:8080/"
        },
        "id": "8EppMeko9YmK",
        "outputId": "c2009892-6d37-4527-81c2-91b5df831cbf"
      },
      "outputs": [
        {
          "data": {
            "text/plain": [
              "tensor(0.6746, grad_fn=<BinaryCrossEntropyBackward0>)"
            ]
          },
          "execution_count": 72,
          "metadata": {},
          "output_type": "execute_result"
        }
      ],
      "source": [
        "loss(predictions,sample_item['labels'].unsqueeze(dim=0))"
      ]
    },
    {
      "cell_type": "markdown",
      "metadata": {
        "id": "ptSRNE3b9YmK"
      },
      "source": [
        "### ROC Curve"
      ]
    },
    {
      "cell_type": "code",
      "execution_count": 73,
      "metadata": {
        "colab": {
          "base_uri": "https://localhost:8080/",
          "height": 459
        },
        "id": "DG6FxI8y9YmK",
        "outputId": "228ba27a-0297-4727-c284-b8268e4de1f9"
      },
      "outputs": [
        {
          "data": {
            "image/png": "[encoded data removed]",
            "text/plain": [
              "<Figure size 1200x800 with 1 Axes>"
            ]
          },
          "metadata": {},
          "output_type": "display_data"
        }
      ],
      "source": [
        "fpr = [0.        , 0.        , 0.        , 0.02857143, 0.02857143,\n",
        "       0.11428571, 0.11428571, 0.2       , 0.4       , 1.        ]\n",
        "\n",
        "tpr = [0.        , 0.01265823, 0.67202532, 0.76202532, 0.91468354,\n",
        "       0.97468354, 0.98734177, 0.98734177, 1.        , 1.        ]\n",
        "\n",
        "_, ax = plt.subplots()\n",
        "ax.plot(fpr,tpr,label='ROC')\n",
        "ax.plot([0.05,0.95],[0.05,0.95],transform=ax.transAxes,label='Random classifier',color='red')\n",
        "ax.legend(loc=4)\n",
        "ax.set_xlabel('False Positive Rate')\n",
        "ax.set_ylabel('True Positive Rate')\n",
        "ax.set_title('Example ROC Curve')\n",
        "plt.show();"
      ]
    },
    {
      "cell_type": "markdown",
      "metadata": {
        "id": "EXuWzgMh9YmL"
      },
      "source": [
        "### Training the model"
      ]
    },
    {
      "cell_type": "code",
      "execution_count": 74,
      "metadata": {
        "id": "k5Ut4Xln9YmL"
      },
      "outputs": [],
      "source": [
        "checkpoint_callback = ModelCheckpoint(\n",
        "    dirpath='checkpoints',\n",
        "    filename='best-checkpoint',\n",
        "    save_top_k=1,\n",
        "    verbose=True,\n",
        "    monitor='val_loss',\n",
        "    mode='min'\n",
        ")"
      ]
    },
    {
      "cell_type": "code",
      "execution_count": 75,
      "metadata": {
        "id": "afkSNWer9YmL"
      },
      "outputs": [],
      "source": [
        "logger = TensorBoardLogger('lightning_logs',name='persuasion_techniques')"
      ]
    },
    {
      "cell_type": "code",
      "execution_count": 76,
      "metadata": {
        "id": "CractO2Z9YmL"
      },
      "outputs": [],
      "source": [
        "early_stopping_callback = EarlyStopping(monitor='val_loss',patience=2)"
      ]
    },
    {
      "cell_type": "code",
      "execution_count": 77,
      "metadata": {
        "colab": {
          "base_uri": "https://localhost:8080/"
        },
        "id": "EhiN65aX9YmM",
        "outputId": "22cdda0b-8fa8-4fd2-8327-a2b1ecabb28c"
      },
      "outputs": [
        {
          "name": "stderr",
          "output_type": "stream",
          "text": [
            "GPU available: False, used: False\n",
            "TPU available: False, using: 0 TPU cores\n",
            "IPU available: False, using: 0 IPUs\n",
            "HPU available: False, using: 0 HPUs\n"
          ]
        }
      ],
      "source": [
        "trainer = pl.Trainer(\n",
        "    logger=logger,\n",
        "    callbacks=[early_stopping_callback,checkpoint_callback],\n",
        "    max_epochs=EPOCHS,\n",
        "    devices='auto',\n",
        "    accelerator='auto',\n",
        "    enable_progress_bar=True\n",
        ")"
      ]
    },
    {
      "cell_type": "code",
      "execution_count": 93,
      "metadata": {
        "colab": {
          "base_uri": "https://localhost:8080/",
          "height": 315,
          "referenced_widgets": [
            "7e3e76cf95ea48b488b841a021e878b4",
            "7088d6424e704cbab29913764fd28a3b",
            "7761c5dae05d4b7e9224566f094c6fcb",
            "940865c3d1794190895bbe763ac86c68",
            "4237fcc13ebe45f6a33f28323fc9cd7f",
            "d73435bf60e74c31b61a5e81f496ee54",
            "1e6581c7d3894006b16374d195b33ea8",
            "4c7b0260403a4076b4ee4a46cb5a6fec",
            "698b5bb5cfae409cb7de261efd5a94b6",
            "8ee2b0416dbf47aa8e953662ddc5123e",
            "f98841af37a84e31b5eb2a4b8f537372"
          ]
        },
        "id": "d50Nh16J9YmM",
        "outputId": "33297481-3f23-48da-86bf-af0064e1106b"
      },
      "outputs": [
        {
          "name": "stderr",
          "output_type": "stream",
          "text": [
            "/usr/local/lib/python3.10/dist-packages/pytorch_lightning/callbacks/model_checkpoint.py:630: Checkpoint directory /content/checkpoints exists and is not empty.\n",
            "INFO:pytorch_lightning.accelerators.cuda:LOCAL_RANK: 0 - CUDA_VISIBLE_DEVICES: [0]\n",
            "INFO:pytorch_lightning.callbacks.model_summary:\n",
            "  | Name       | Type      | Params\n",
            "-----------------------------------------\n",
            "0 | bert       | BertModel | 108 M \n",
            "1 | classifier | Linear    | 15.4 K\n",
            "2 | criterion  | BCELoss   | 0     \n",
            "-----------------------------------------\n",
            "108 M     Trainable params\n",
            "0         Non-trainable params\n",
            "108 M     Total params\n",
            "433.303   Total estimated model params size (MB)\n"
          ]
        },
        {
          "data": {
            "application/vnd.jupyter.widget-view+json": {
              "model_id": "7e3e76cf95ea48b488b841a021e878b4",
              "version_major": 2,
              "version_minor": 0
            },
            "text/plain": [
              "Sanity Checking: |          | 0/? [00:00<?, ?it/s]"
            ]
          },
          "metadata": {},
          "output_type": "display_data"
        },
        {
          "name": "stderr",
          "output_type": "stream",
          "text": [
            "/usr/local/lib/python3.10/dist-packages/pytorch_lightning/trainer/connectors/data_connector.py:441: The 'val_dataloader' does not have many workers which may be a bottleneck. Consider increasing the value of the `num_workers` argument` to `num_workers=1` in the `DataLoader` to improve performance.\n",
            "/usr/local/lib/python3.10/dist-packages/pytorch_lightning/trainer/connectors/data_connector.py:441: The 'train_dataloader' does not have many workers which may be a bottleneck. Consider increasing the value of the `num_workers` argument` to `num_workers=1` in the `DataLoader` to improve performance.\n",
            "INFO:pytorch_lightning.utilities.rank_zero:`Trainer.fit` stopped: `max_epochs=10` reached.\n"
          ]
        }
      ],
      "source": [
        "trainer.fit(model,data_module)"
      ]
    },
    {
      "cell_type": "code",
      "execution_count": 95,
      "metadata": {
        "colab": {
          "base_uri": "https://localhost:8080/"
        },
        "id": "jbCBaBXbOKW5",
        "outputId": "2570c51c-ae10-4c93-b7dd-fbe952fe1d08"
      },
      "outputs": [
        {
          "name": "stdout",
          "output_type": "stream",
          "text": [
            "model saved\n"
          ]
        }
      ],
      "source": [
        "import pickle\n",
        "\n",
        "with open('bert_model.pkl', 'wb') as f:\n",
        "    pickle.dump(model, f)\n",
        "print('model saved')"
      ]
    },
    {
      "cell_type": "code",
      "execution_count": 79,
      "metadata": {},
      "outputs": [
        {
          "name": "stdout",
          "output_type": "stream",
          "text": [
            "Loading model parameters...\n",
            "Loaded successfully!\n"
          ]
        }
      ],
      "source": [
        "import pickle\n",
        "\n",
        "model = PersuasionTechniqueDetector(\n",
        "    n_classes=len(CLASS_NAMES),\n",
        "    n_warmup_steps=warmup_steps,\n",
        "    n_training_steps=total_training_steps\n",
        ")\n",
        "print('Loading model parameters...')\n",
        "with open('bert_model.pkl','rb') as f:\n",
        "    model = pickle.load(f)\n",
        "print('Loaded successfully!')"
      ]
    },
    {
      "cell_type": "code",
      "execution_count": 81,
      "metadata": {},
      "outputs": [],
      "source": [
        "trained_model = model\n",
        "trained_model.eval()\n",
        "trained_model.freeze()"
      ]
    },
    {
      "cell_type": "code",
      "execution_count": 110,
      "metadata": {},
      "outputs": [
        {
          "name": "stdout",
          "output_type": "stream",
          "text": [
            "Presenting Irrelevant Data (Red Herring): 0.01809155009686947\n",
            "Exaggeration/Minimisation: 0.1819428950548172\n",
            "Appeal to fear/prejudice: 0.03328298404812813\n",
            "Reductio ad hitlerum: 0.07580282539129257\n",
            "Causal Oversimplification: 0.027255546301603317\n",
            "Name calling/Labeling: 0.06330566853284836\n",
            "Smears: 0.07059712707996368\n",
            "Glittering generalities (Virtue): 0.029707372188568115\n",
            "Whataboutism: 0.05211286619305611\n",
            "Loaded Language: 0.21723680198192596\n",
            "Misrepresentation of Someone's Position (Straw Man): 0.028057482093572617\n",
            "Obfuscation, Intentional vagueness, Confusion: 0.05002221465110779\n",
            "Appeal to authority: 0.019106950610876083\n",
            "Black-and-white Fallacy/Dictatorship: 0.04757321998476982\n",
            "Flag-waving: 0.017268523573875427\n",
            "Slogans: 0.013271033763885498\n",
            "Doubt: 0.041354868561029434\n",
            "Thought-terminating cliché: 0.03531501442193985\n",
            "Repetition: 0.15337103605270386\n",
            "Bandwagon: 0.014760727994143963\n"
          ]
        }
      ],
      "source": [
        "test_meme_text = \"WE WILL LEAVE THE COUNTRY IF TRUMP IS ELECTED\\\\n\\\\nPLEASE LIKE AND SHARE TO SUPPORT THEIR PLAN!\"\n",
        "\n",
        "encoding = tokenizer.encode_plus(\n",
        "    test_meme_text,\n",
        "    add_special_tokens=True,\n",
        "    max_length=MAX_TOKEN_COUNT,\n",
        "    return_token_type_ids=False,\n",
        "    padding='max_length',\n",
        "    return_attention_mask=True,\n",
        "    return_tensors='pt'\n",
        ")\n",
        "\n",
        "_, test_prediction = trained_model(encoding['input_ids'],encoding['attention_mask'])\n",
        "test_prediction = test_prediction.flatten().numpy()\n",
        "\n",
        "for label, prediction in zip(CLASS_NAMES, test_prediction):\n",
        "  print(f\"{label}: {prediction}\")"
      ]
    },
    {
      "cell_type": "code",
      "execution_count": 112,
      "metadata": {},
      "outputs": [
        {
          "name": "stdout",
          "output_type": "stream",
          "text": [
            "Exaggeration/Minimisation: 0.1819428950548172\n",
            "Reductio ad hitlerum: 0.07580282539129257\n",
            "Name calling/Labeling: 0.06330566853284836\n",
            "Smears: 0.07059712707996368\n",
            "Whataboutism: 0.05211286619305611\n",
            "Loaded Language: 0.21723680198192596\n",
            "Obfuscation, Intentional vagueness, Confusion: 0.05002221465110779\n",
            "Black-and-white Fallacy/Dictatorship: 0.04757321998476982\n",
            "Doubt: 0.041354868561029434\n",
            "Repetition: 0.15337103605270386\n"
          ]
        }
      ],
      "source": [
        "THRESHOLD = 0.04\n",
        "\n",
        "test_meme_text = \"WE WILL LEAVE THE COUNTRY IF TRUMP IS ELECTED\\\\n\\\\nPLEASE LIKE AND SHARE TO SUPPORT THEIR PLAN!\"\n",
        "\n",
        "encoding = tokenizer.encode_plus(\n",
        "    test_meme_text,\n",
        "    add_special_tokens=True,\n",
        "    max_length=MAX_TOKEN_COUNT,\n",
        "    return_token_type_ids=False,\n",
        "    padding='max_length',\n",
        "    return_attention_mask=True,\n",
        "    return_tensors='pt'\n",
        ")\n",
        "\n",
        "_, test_prediction = trained_model(encoding['input_ids'],encoding['attention_mask'])\n",
        "test_prediction = test_prediction.flatten().numpy()\n",
        "\n",
        "for label, prediction in zip(CLASS_NAMES, test_prediction):\n",
        "    if prediction < THRESHOLD:\n",
        "        continue\n",
        "    print(f\"{label}: {prediction}\")"
      ]
    },
    {
      "cell_type": "code",
      "execution_count": 115,
      "metadata": {},
      "outputs": [
        {
          "name": "stderr",
          "output_type": "stream",
          "text": [
            "  0%|          | 0/500 [00:00<?, ?it/s]"
          ]
        },
        {
          "name": "stderr",
          "output_type": "stream",
          "text": [
            "100%|██████████| 500/500 [05:59<00:00,  1.39it/s]\n"
          ]
        }
      ],
      "source": [
        "device = torch.device('cuda' if torch.cuda.is_available() else 'cpu')\n",
        "trained_model = trained_model.to(device)\n",
        "val_dataset = PersuasionDataset(\n",
        "  df_val,\n",
        "  tokenizer,\n",
        "  max_token_len=MAX_TOKEN_COUNT\n",
        ")\n",
        "\n",
        "predictions = []\n",
        "labels = []\n",
        "\n",
        "for item in tqdm(val_dataset):\n",
        "  _, prediction = trained_model(\n",
        "    item[\"input_ids\"].unsqueeze(dim=0).to(device),\n",
        "    item[\"attention_mask\"].unsqueeze(dim=0).to(device)\n",
        "  )\n",
        "\n",
        "  predictions.append(prediction.flatten())\n",
        "  labels.append(item[\"labels\"].int())\n",
        "\n",
        "predictions = torch.stack(predictions).detach().cpu()\n",
        "labels = torch.stack(labels).detach().cpu()"
      ]
    },
    {
      "cell_type": "code",
      "execution_count": 118,
      "metadata": {},
      "outputs": [
        {
          "data": {
            "text/plain": [
              "tensor(0.4981)"
            ]
          },
          "execution_count": 118,
          "metadata": {},
          "output_type": "execute_result"
        }
      ],
      "source": [
        "accuracy(predictions, labels, threshold=THRESHOLD, task='multilabel', num_labels=len(column_names))"
      ]
    },
    {
      "cell_type": "code",
      "execution_count": 129,
      "metadata": {},
      "outputs": [
        {
          "name": "stdout",
          "output_type": "stream",
          "text": [
            "AUROC per tag\n",
            "Presenting Irrelevant Data (Red Herring): 0.0\n"
          ]
        },
        {
          "name": "stderr",
          "output_type": "stream",
          "text": [
            "c:\\Users\\tshar\\anaconda3\\envs\\MLS\\Lib\\site-packages\\torchmetrics\\utilities\\prints.py:43: UserWarning: No positive samples in targets, true positive value should be meaningless. Returning zero tensor in true positive score\n",
            "  warnings.warn(*args, **kwargs)  # noqa: B028\n",
            "c:\\Users\\tshar\\anaconda3\\envs\\MLS\\Lib\\site-packages\\torchmetrics\\utilities\\prints.py:43: UserWarning: No negative samples in targets, false positive value should be meaningless. Returning zero tensor in false positive score\n",
            "  warnings.warn(*args, **kwargs)  # noqa: B028\n"
          ]
        },
        {
          "name": "stdout",
          "output_type": "stream",
          "text": [
            "Exaggeration/Minimisation: 0.0\n",
            "Appeal to fear/prejudice: 0.0\n",
            "Reductio ad hitlerum: 0.0\n",
            "Causal Oversimplification: 0.0\n",
            "Name calling/Labeling: 0.0\n",
            "Smears: 0.0\n",
            "Glittering generalities (Virtue): 0.0\n",
            "Whataboutism: 0.0\n",
            "Loaded Language: 0.0\n",
            "Misrepresentation of Someone's Position (Straw Man): 0.0\n",
            "Obfuscation, Intentional vagueness, Confusion: 0.0\n",
            "Appeal to authority: 0.0\n",
            "Black-and-white Fallacy/Dictatorship: 0.0\n",
            "Flag-waving: 0.0\n",
            "Slogans: 0.0\n",
            "Doubt: 0.0\n",
            "Thought-terminating cliché: 0.0\n",
            "Repetition: 0.0\n",
            "Bandwagon: 0.0\n"
          ]
        }
      ],
      "source": [
        "print(\"AUROC per tag\")\n",
        "for i, name in enumerate(LABEL_COLUMNS):\n",
        "  tag_auroc = auroc(predictions[:, i].unsqueeze(dim=0), labels[:, i].unsqueeze(dim=0), task='multilabel', num_labels=500)\n",
        "  print(f\"{name}: {tag_auroc}\")"
      ]
    },
    {
      "cell_type": "code",
      "execution_count": 124,
      "metadata": {},
      "outputs": [
        {
          "name": "stdout",
          "output_type": "stream",
          "text": [
            "                                                     precision    recall  f1-score   support\n",
            "\n",
            "           Presenting Irrelevant Data (Red Herring)       0.00      0.00      0.00         4\n",
            "                          Exaggeration/Minimisation       0.05      1.00      0.10        27\n",
            "                           Appeal to fear/prejudice       0.07      0.30      0.11        27\n",
            "                               Reductio ad hitlerum       0.01      1.00      0.02         4\n",
            "                          Causal Oversimplification       0.00      0.00      0.00        21\n",
            "                              Name calling/Labeling       0.23      1.00      0.38       116\n",
            "                                             Smears       0.28      1.00      0.44       142\n",
            "                   Glittering generalities (Virtue)       0.06      0.08      0.07        36\n",
            "                                       Whataboutism       0.04      1.00      0.08        21\n",
            "                                    Loaded Language       0.27      1.00      0.43       135\n",
            "Misrepresentation of Someone's Position (Straw Man)       0.01      0.25      0.03         4\n",
            "      Obfuscation, Intentional vagueness, Confusion       0.00      1.00      0.01         2\n",
            "                                Appeal to authority       1.00      0.02      0.03        63\n",
            "               Black-and-white Fallacy/Dictatorship       0.11      1.00      0.19        53\n",
            "                                        Flag-waving       0.00      0.00      0.00        42\n",
            "                                            Slogans       0.00      0.00      0.00        50\n",
            "                                              Doubt       0.05      0.79      0.09        24\n",
            "                         Thought-terminating cliché       0.07      0.32      0.11        38\n",
            "                                         Repetition       0.05      1.00      0.09        23\n",
            "                                          Bandwagon       0.00      0.00      0.00         7\n",
            "\n",
            "                                          micro avg       0.11      0.68      0.18       839\n",
            "                                          macro avg       0.12      0.54      0.11       839\n",
            "                                       weighted avg       0.22      0.68      0.23       839\n",
            "                                        samples avg       0.11      0.55      0.17       839\n",
            "\n"
          ]
        }
      ],
      "source": [
        "from sklearn.metrics import classification_report\n",
        "\n",
        "y_pred = predictions.numpy()\n",
        "y_true = labels.numpy()\n",
        "upper, lower = 1, 0\n",
        "y_pred = np.where(y_pred > THRESHOLD, upper, lower)\n",
        "print(classification_report(\n",
        "  y_true,\n",
        "  y_pred,\n",
        "  target_names=LABEL_COLUMNS,\n",
        "  zero_division=0\n",
        "))"
      ]
    }
  ],
  "metadata": {
    "colab": {
      "provenance": []
    },
    "kernelspec": {
      "display_name": "Python 3",
      "name": "python3"
    },
    "language_info": {
      "codemirror_mode": {
        "name": "ipython",
        "version": 3
      },
      "file_extension": ".py",
      "mimetype": "text/x-python",
      "name": "python",
      "nbconvert_exporter": "python",
      "pygments_lexer": "ipython3",
      "version": "3.11.6"
    },
    "widgets": {
      "application/vnd.jupyter.widget-state+json": {
        "1e6581c7d3894006b16374d195b33ea8": {
          "model_module": "@jupyter-widgets/controls",
          "model_module_version": "1.5.0",
          "model_name": "DescriptionStyleModel",
          "state": {
            "_model_module": "@jupyter-widgets/controls",
            "_model_module_version": "1.5.0",
            "_model_name": "DescriptionStyleModel",
            "_view_count": null,
            "_view_module": "@jupyter-widgets/base",
            "_view_module_version": "1.2.0",
            "_view_name": "StyleView",
            "description_width": ""
          }
        },
        "4237fcc13ebe45f6a33f28323fc9cd7f": {
          "model_module": "@jupyter-widgets/base",
          "model_module_version": "1.2.0",
          "model_name": "LayoutModel",
          "state": {
            "_model_module": "@jupyter-widgets/base",
            "_model_module_version": "1.2.0",
            "_model_name": "LayoutModel",
            "_view_count": null,
            "_view_module": "@jupyter-widgets/base",
            "_view_module_version": "1.2.0",
            "_view_name": "LayoutView",
            "align_content": null,
            "align_items": null,
            "align_self": null,
            "border": null,
            "bottom": null,
            "display": "inline-flex",
            "flex": null,
            "flex_flow": "row wrap",
            "grid_area": null,
            "grid_auto_columns": null,
            "grid_auto_flow": null,
            "grid_auto_rows": null,
            "grid_column": null,
            "grid_gap": null,
            "grid_row": null,
            "grid_template_areas": null,
            "grid_template_columns": null,
            "grid_template_rows": null,
            "height": null,
            "justify_content": null,
            "justify_items": null,
            "left": null,
            "margin": null,
            "max_height": null,
            "max_width": null,
            "min_height": null,
            "min_width": null,
            "object_fit": null,
            "object_position": null,
            "order": null,
            "overflow": null,
            "overflow_x": null,
            "overflow_y": null,
            "padding": null,
            "right": null,
            "top": null,
            "visibility": "hidden",
            "width": "100%"
          }
        },
        "4c7b0260403a4076b4ee4a46cb5a6fec": {
          "model_module": "@jupyter-widgets/base",
          "model_module_version": "1.2.0",
          "model_name": "LayoutModel",
          "state": {
            "_model_module": "@jupyter-widgets/base",
            "_model_module_version": "1.2.0",
            "_model_name": "LayoutModel",
            "_view_count": null,
            "_view_module": "@jupyter-widgets/base",
            "_view_module_version": "1.2.0",
            "_view_name": "LayoutView",
            "align_content": null,
            "align_items": null,
            "align_self": null,
            "border": null,
            "bottom": null,
            "display": null,
            "flex": "2",
            "flex_flow": null,
            "grid_area": null,
            "grid_auto_columns": null,
            "grid_auto_flow": null,
            "grid_auto_rows": null,
            "grid_column": null,
            "grid_gap": null,
            "grid_row": null,
            "grid_template_areas": null,
            "grid_template_columns": null,
            "grid_template_rows": null,
            "height": null,
            "justify_content": null,
            "justify_items": null,
            "left": null,
            "margin": null,
            "max_height": null,
            "max_width": null,
            "min_height": null,
            "min_width": null,
            "object_fit": null,
            "object_position": null,
            "order": null,
            "overflow": null,
            "overflow_x": null,
            "overflow_y": null,
            "padding": null,
            "right": null,
            "top": null,
            "visibility": null,
            "width": null
          }
        },
        "698b5bb5cfae409cb7de261efd5a94b6": {
          "model_module": "@jupyter-widgets/controls",
          "model_module_version": "1.5.0",
          "model_name": "ProgressStyleModel",
          "state": {
            "_model_module": "@jupyter-widgets/controls",
            "_model_module_version": "1.5.0",
            "_model_name": "ProgressStyleModel",
            "_view_count": null,
            "_view_module": "@jupyter-widgets/base",
            "_view_module_version": "1.2.0",
            "_view_name": "StyleView",
            "bar_color": null,
            "description_width": ""
          }
        },
        "7088d6424e704cbab29913764fd28a3b": {
          "model_module": "@jupyter-widgets/controls",
          "model_module_version": "1.5.0",
          "model_name": "HTMLModel",
          "state": {
            "_dom_classes": [],
            "_model_module": "@jupyter-widgets/controls",
            "_model_module_version": "1.5.0",
            "_model_name": "HTMLModel",
            "_view_count": null,
            "_view_module": "@jupyter-widgets/controls",
            "_view_module_version": "1.5.0",
            "_view_name": "HTMLView",
            "description": "",
            "description_tooltip": null,
            "layout": "IPY_MODEL_d73435bf60e74c31b61a5e81f496ee54",
            "placeholder": "​",
            "style": "IPY_MODEL_1e6581c7d3894006b16374d195b33ea8",
            "value": "Sanity Checking DataLoader 0: 100%"
          }
        },
        "7761c5dae05d4b7e9224566f094c6fcb": {
          "model_module": "@jupyter-widgets/controls",
          "model_module_version": "1.5.0",
          "model_name": "FloatProgressModel",
          "state": {
            "_dom_classes": [],
            "_model_module": "@jupyter-widgets/controls",
            "_model_module_version": "1.5.0",
            "_model_name": "FloatProgressModel",
            "_view_count": null,
            "_view_module": "@jupyter-widgets/controls",
            "_view_module_version": "1.5.0",
            "_view_name": "ProgressView",
            "bar_style": "",
            "description": "",
            "description_tooltip": null,
            "layout": "IPY_MODEL_4c7b0260403a4076b4ee4a46cb5a6fec",
            "max": 2,
            "min": 0,
            "orientation": "horizontal",
            "style": "IPY_MODEL_698b5bb5cfae409cb7de261efd5a94b6",
            "value": 2
          }
        },
        "7e3e76cf95ea48b488b841a021e878b4": {
          "model_module": "@jupyter-widgets/controls",
          "model_module_version": "1.5.0",
          "model_name": "HBoxModel",
          "state": {
            "_dom_classes": [],
            "_model_module": "@jupyter-widgets/controls",
            "_model_module_version": "1.5.0",
            "_model_name": "HBoxModel",
            "_view_count": null,
            "_view_module": "@jupyter-widgets/controls",
            "_view_module_version": "1.5.0",
            "_view_name": "HBoxView",
            "box_style": "",
            "children": [
              "IPY_MODEL_7088d6424e704cbab29913764fd28a3b",
              "IPY_MODEL_7761c5dae05d4b7e9224566f094c6fcb",
              "IPY_MODEL_940865c3d1794190895bbe763ac86c68"
            ],
            "layout": "IPY_MODEL_4237fcc13ebe45f6a33f28323fc9cd7f"
          }
        },
        "8ee2b0416dbf47aa8e953662ddc5123e": {
          "model_module": "@jupyter-widgets/base",
          "model_module_version": "1.2.0",
          "model_name": "LayoutModel",
          "state": {
            "_model_module": "@jupyter-widgets/base",
            "_model_module_version": "1.2.0",
            "_model_name": "LayoutModel",
            "_view_count": null,
            "_view_module": "@jupyter-widgets/base",
            "_view_module_version": "1.2.0",
            "_view_name": "LayoutView",
            "align_content": null,
            "align_items": null,
            "align_self": null,
            "border": null,
            "bottom": null,
            "display": null,
            "flex": null,
            "flex_flow": null,
            "grid_area": null,
            "grid_auto_columns": null,
            "grid_auto_flow": null,
            "grid_auto_rows": null,
            "grid_column": null,
            "grid_gap": null,
            "grid_row": null,
            "grid_template_areas": null,
            "grid_template_columns": null,
            "grid_template_rows": null,
            "height": null,
            "justify_content": null,
            "justify_items": null,
            "left": null,
            "margin": null,
            "max_height": null,
            "max_width": null,
            "min_height": null,
            "min_width": null,
            "object_fit": null,
            "object_position": null,
            "order": null,
            "overflow": null,
            "overflow_x": null,
            "overflow_y": null,
            "padding": null,
            "right": null,
            "top": null,
            "visibility": null,
            "width": null
          }
        },
        "940865c3d1794190895bbe763ac86c68": {
          "model_module": "@jupyter-widgets/controls",
          "model_module_version": "1.5.0",
          "model_name": "HTMLModel",
          "state": {
            "_dom_classes": [],
            "_model_module": "@jupyter-widgets/controls",
            "_model_module_version": "1.5.0",
            "_model_name": "HTMLModel",
            "_view_count": null,
            "_view_module": "@jupyter-widgets/controls",
            "_view_module_version": "1.5.0",
            "_view_name": "HTMLView",
            "description": "",
            "description_tooltip": null,
            "layout": "IPY_MODEL_8ee2b0416dbf47aa8e953662ddc5123e",
            "placeholder": "​",
            "style": "IPY_MODEL_f98841af37a84e31b5eb2a4b8f537372",
            "value": " 2/2 [00:00&lt;00:00, 29.77it/s]"
          }
        },
        "d73435bf60e74c31b61a5e81f496ee54": {
          "model_module": "@jupyter-widgets/base",
          "model_module_version": "1.2.0",
          "model_name": "LayoutModel",
          "state": {
            "_model_module": "@jupyter-widgets/base",
            "_model_module_version": "1.2.0",
            "_model_name": "LayoutModel",
            "_view_count": null,
            "_view_module": "@jupyter-widgets/base",
            "_view_module_version": "1.2.0",
            "_view_name": "LayoutView",
            "align_content": null,
            "align_items": null,
            "align_self": null,
            "border": null,
            "bottom": null,
            "display": null,
            "flex": null,
            "flex_flow": null,
            "grid_area": null,
            "grid_auto_columns": null,
            "grid_auto_flow": null,
            "grid_auto_rows": null,
            "grid_column": null,
            "grid_gap": null,
            "grid_row": null,
            "grid_template_areas": null,
            "grid_template_columns": null,
            "grid_template_rows": null,
            "height": null,
            "justify_content": null,
            "justify_items": null,
            "left": null,
            "margin": null,
            "max_height": null,
            "max_width": null,
            "min_height": null,
            "min_width": null,
            "object_fit": null,
            "object_position": null,
            "order": null,
            "overflow": null,
            "overflow_x": null,
            "overflow_y": null,
            "padding": null,
            "right": null,
            "top": null,
            "visibility": null,
            "width": null
          }
        },
        "f98841af37a84e31b5eb2a4b8f537372": {
          "model_module": "@jupyter-widgets/controls",
          "model_module_version": "1.5.0",
          "model_name": "DescriptionStyleModel",
          "state": {
            "_model_module": "@jupyter-widgets/controls",
            "_model_module_version": "1.5.0",
            "_model_name": "DescriptionStyleModel",
            "_view_count": null,
            "_view_module": "@jupyter-widgets/base",
            "_view_module_version": "1.2.0",
            "_view_name": "StyleView",
            "description_width": ""
          }
        }
      }
    }
  },
  "nbformat": 4,
  "nbformat_minor": 0
}
